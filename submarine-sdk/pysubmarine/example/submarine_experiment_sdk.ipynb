{
 "cells": [
  {
   "cell_type": "markdown",
   "metadata": {},
   "source": [
    "## Sample for Submarine Experiment SDK\n",
    "\n",
    "The notebook shows how to use Submarine Experiment SDK to create, get, list, log, delete Submarine Experiment."
   ]
  },
  {
   "cell_type": "code",
   "execution_count": 1,
   "metadata": {
    "pycharm": {
     "is_executing": false
    }
   },
   "outputs": [],
   "source": [
    "from __future__ import print_function\n",
    "import submarine\n",
    "from submarine.experiment.models.environment import Environment\n",
    "from submarine.experiment.models.experiment_spec import ExperimentSpec\n",
    "from submarine.experiment.models.experiment_task_spec import ExperimentTaskSpec\n",
    "from submarine.experiment.models.experiment_meta import ExperimentMeta"
   ]
  },
  {
   "cell_type": "markdown",
   "metadata": {},
   "source": [
    "### Create Submarine Client"
   ]
  },
  {
   "cell_type": "code",
   "execution_count": 2,
   "metadata": {
    "pycharm": {
     "is_executing": false,
     "name": "#%%\n"
    }
   },
   "outputs": [],
   "source": [
    "submarine_client = submarine.ExperimentClient(host='http://192.168.103.9:8080')"
   ]
  },
  {
   "cell_type": "markdown",
   "metadata": {
    "pycharm": {
     "name": "#%% md\n"
    }
   },
   "source": [
    "### Define TensorFlow experiment spec¶\n",
    "Define Submarine spec¶\n",
    "The demo only creates a worker of TF experiment to run mnist sample."
   ]
  },
  {
   "cell_type": "code",
   "execution_count": 3,
   "metadata": {
    "pycharm": {
     "is_executing": false,
     "name": "#%%\n"
    }
   },
   "outputs": [],
   "source": [
    "experiment_meta = ExperimentMeta(name='mnist',\n",
    "                                 namespace='submarine',\n",
    "                                 framework='Tensorflow',\n",
    "                                 cmd='python /var/tf_mnist/mnist_with_summaries.py'\n",
    "                                    ' --log_dir=/train/log --learning_rate=0.01'\n",
    "                                    ' --batch_size=150',\n",
    "                                 env_vars={'ENV1': 'ENV1'})\n",
    "\n",
    "worker_spec = ExperimentTaskSpec(resources='cpu=4,memory=2048M',\n",
    "                                 replicas=1)\n",
    "\n",
    "environment = Environment(image='gcr.io/kubeflow-ci/tf-mnist-with-summaries:1.0')\n",
    "\n",
    "experiment_spec = ExperimentSpec(meta=experiment_meta,\n",
    "                                 environment=environment,\n",
    "                                 spec={'Worker': worker_spec}) \n"
   ]
  },
  {
   "cell_type": "markdown",
   "metadata": {},
   "source": [
    "### Create experiment"
   ]
  },
  {
   "cell_type": "code",
   "execution_count": 4,
   "metadata": {
    "pycharm": {
     "name": "#%%\n",
     "is_executing": false
    },
    "scrolled": true
   },
   "outputs": [
    {
     "data": {
      "text/plain": "{'experimentId': 'experiment_1592478280496_0001',\n 'name': 'mnist',\n 'uid': 'd665447b-592b-43e7-9641-4c84dfc568b3',\n 'status': 'Accepted',\n 'acceptedTime': '2020-06-18T19:05:05.000+08:00',\n 'createdTime': None,\n 'runningTime': None,\n 'finishedTime': None,\n 'spec': {'meta': {'name': 'mnist',\n   'namespace': 'submarine',\n   'framework': 'Tensorflow',\n   'cmd': 'python /var/tf_mnist/mnist_with_summaries.py --log_dir=/train/log --learning_rate=0.01 --batch_size=150',\n   'envVars': {'ENV1': 'ENV1'}},\n  'environment': {'image': 'gcr.io/kubeflow-ci/tf-mnist-with-summaries:1.0'},\n  'spec': {'Worker': {'replicas': 1,\n    'resources': 'cpu=4,memory=2048M',\n    'name': None,\n    'image': None,\n    'cmd': None,\n    'envVars': None,\n    'resourceMap': {'memory': '2048M', 'cpu': '4'}}}}}"
     },
     "metadata": {},
     "output_type": "execute_result",
     "execution_count": 4
    }
   ],
   "source": [
    "experiment = submarine_client.create_experiment(experiment_spec=experiment_spec)\n",
    "experiment"
   ]
  },
  {
   "cell_type": "markdown",
   "metadata": {},
   "source": [
    "### Get the created experiment"
   ]
  },
  {
   "cell_type": "code",
   "execution_count": 5,
   "metadata": {
    "pycharm": {
     "name": "#%%\n",
     "is_executing": false
    }
   },
   "outputs": [
    {
     "data": {
      "text/plain": "{'experimentId': 'experiment_1592478280496_0001',\n 'name': 'mnist',\n 'uid': 'd665447b-592b-43e7-9641-4c84dfc568b3',\n 'status': 'Running',\n 'acceptedTime': '2020-06-18T19:05:05.000+08:00',\n 'createdTime': '2020-06-18T19:05:05.000+08:00',\n 'runningTime': '2020-06-18T19:05:05.000+08:00',\n 'finishedTime': None,\n 'spec': {'meta': {'name': 'mnist',\n   'namespace': 'submarine',\n   'framework': 'Tensorflow',\n   'cmd': 'python /var/tf_mnist/mnist_with_summaries.py --log_dir=/train/log --learning_rate=0.01 --batch_size=150',\n   'envVars': {'ENV1': 'ENV1'}},\n  'environment': {'image': 'gcr.io/kubeflow-ci/tf-mnist-with-summaries:1.0'},\n  'spec': {'Worker': {'replicas': 1,\n    'resources': 'cpu=4,memory=2048M',\n    'name': None,\n    'image': None,\n    'cmd': None,\n    'envVars': None,\n    'resourceMap': {'memory': '2048M', 'cpu': '4'}}}}}"
     },
     "metadata": {},
     "output_type": "execute_result",
     "execution_count": 5
    }
   ],
   "source": [
    "id = experiment['experimentId']\n",
    "submarine_client.get_experiment(id)"
   ]
  },
  {
   "cell_type": "markdown",
   "metadata": {},
   "source": [
    "### List all running experiments"
   ]
  },
  {
   "cell_type": "code",
   "execution_count": 6,
   "metadata": {
    "pycharm": {
     "name": "#%%\n",
     "is_executing": false
    }
   },
   "outputs": [
    {
     "data": {
      "text/plain": "[{'experimentId': 'experiment_1592478280496_0001',\n  'name': 'mnist',\n  'uid': 'd665447b-592b-43e7-9641-4c84dfc568b3',\n  'status': 'Running',\n  'acceptedTime': '2020-06-18T19:05:05.000+08:00',\n  'createdTime': '2020-06-18T19:05:05.000+08:00',\n  'runningTime': '2020-06-18T19:05:05.000+08:00',\n  'finishedTime': None,\n  'spec': {'meta': {'name': 'mnist',\n    'namespace': 'submarine',\n    'framework': 'Tensorflow',\n    'cmd': 'python /var/tf_mnist/mnist_with_summaries.py --log_dir=/train/log --learning_rate=0.01 --batch_size=150',\n    'envVars': {'ENV1': 'ENV1'}},\n   'environment': {'image': 'gcr.io/kubeflow-ci/tf-mnist-with-summaries:1.0'},\n   'spec': {'Worker': {'replicas': 1,\n     'resources': 'cpu=4,memory=2048M',\n     'name': None,\n     'image': None,\n     'cmd': None,\n     'envVars': None,\n     'resourceMap': {'memory': '2048M', 'cpu': '4'}}}}}]"
     },
     "metadata": {},
     "output_type": "execute_result",
     "execution_count": 6
    }
   ],
   "source": [
    "status = 'running'\n",
    "submarine_client.list_experiments(status=status)"
   ]
  },
  {
   "cell_type": "markdown",
   "metadata": {},
   "source": [
    "### Get specific experiment training log "
   ]
  },
  {
   "cell_type": "code",
   "execution_count": 8,
   "metadata": {
    "pycharm": {
     "name": "#%%\n",
     "is_executing": false
    }
   },
   "outputs": [
    {
     "name": "stderr",
     "text": [
      "The logs of Pod mnist-worker-0:\n\n",
      "WARNING:tensorflow:From /var/tf_mnist/mnist_with_summaries.py:39: read_data_sets (from tensorflow.contrib.learn.python.learn.datasets.mnist) is deprecated and will be removed in a future version.:\n\n",
      "Instructions for updating::\n\n",
      "Please use alternatives such as official/mnist/dataset.py from tensorflow/models.:\n\n",
      "WARNING:tensorflow:From /usr/local/lib/python2.7/dist-packages/tensorflow/contrib/learn/python/learn/datasets/mnist.py:260: maybe_download (from tensorflow.contrib.learn.python.learn.datasets.base) is deprecated and will be removed in a future version.:\n\n",
      "Instructions for updating::\n\n",
      "Please write your own downloading logic.:\n\n",
      "WARNING:tensorflow:From /usr/local/lib/python2.7/dist-packages/tensorflow/contrib/learn/python/learn/datasets/base.py:252: wrapped_fn (from tensorflow.contrib.learn.python.learn.datasets.base) is deprecated and will be removed in a future version.:\n\n",
      "Instructions for updating::\n\n",
      "Please use urllib or similar directly.:\n\n",
      "WARNING:tensorflow:From /usr/local/lib/python2.7/dist-packages/tensorflow/contrib/learn/python/learn/datasets/mnist.py:262: extract_images (from tensorflow.contrib.learn.python.learn.datasets.mnist) is deprecated and will be removed in a future version.:\n\n",
      "Instructions for updating::\n\n",
      "Please use tf.data to implement this functionality.:\n\n",
      "WARNING:tensorflow:From /usr/local/lib/python2.7/dist-packages/tensorflow/contrib/learn/python/learn/datasets/mnist.py:267: extract_labels (from tensorflow.contrib.learn.python.learn.datasets.mnist) is deprecated and will be removed in a future version.:\n\n",
      "Instructions for updating::\n\n",
      "Please use tf.data to implement this functionality.:\n\n",
      "WARNING:tensorflow:From /usr/local/lib/python2.7/dist-packages/tensorflow/contrib/learn/python/learn/datasets/mnist.py:290: __init__ (from tensorflow.contrib.learn.python.learn.datasets.mnist) is deprecated and will be removed in a future version.:\n\n",
      "Instructions for updating::\n\n",
      "Please use alternatives such as official/mnist/dataset.py from tensorflow/models.:\n\n",
      "2020-06-18 11:05:09.024329: I tensorflow/core/platform/cpu_feature_guard.cc:141] Your CPU supports instructions that this TensorFlow binary was not compiled to use: AVX2 FMA:\n\n",
      "Successfully downloaded train-images-idx3-ubyte.gz 9912422 bytes.:\n\n",
      "Extracting /tmp/tensorflow/mnist/input_data/train-images-idx3-ubyte.gz:\n\n",
      "Successfully downloaded train-labels-idx1-ubyte.gz 28881 bytes.:\n\n",
      "Extracting /tmp/tensorflow/mnist/input_data/train-labels-idx1-ubyte.gz:\n\n",
      "Successfully downloaded t10k-images-idx3-ubyte.gz 1648877 bytes.:\n\n",
      "Extracting /tmp/tensorflow/mnist/input_data/t10k-images-idx3-ubyte.gz:\n\n",
      "Successfully downloaded t10k-labels-idx1-ubyte.gz 4542 bytes.:\n\n",
      "Extracting /tmp/tensorflow/mnist/input_data/t10k-labels-idx1-ubyte.gz:\n\n",
      "Accuracy at step 0: 0.0783:\n\n",
      "Accuracy at step 10: 0.7697:\n\n",
      "Accuracy at step 20: 0.8719:\n\n",
      "Accuracy at step 30: 0.9015:\n\n",
      "Accuracy at step 40: 0.9062:\n\n",
      "Accuracy at step 50: 0.9226:\n\n",
      "Accuracy at step 60: 0.9253:\n\n",
      "Accuracy at step 70: 0.9349:\n\n",
      "Accuracy at step 80: 0.9365:\n\n",
      "Accuracy at step 90: 0.9357:\n\n",
      "Adding run metadata for 99:\n\n",
      "Accuracy at step 100: 0.9371:\n\n",
      "Accuracy at step 110: 0.9428:\n\n",
      "Accuracy at step 120: 0.9453:\n\n",
      "Accuracy at step 130: 0.9487:\n\n",
      "Accuracy at step 140: 0.9529:\n\n",
      "Accuracy at step 150: 0.9487:\n\n",
      "Accuracy at step 160: 0.9413:\n\n",
      "Accuracy at step 170: 0.9464:\n\n",
      "Accuracy at step 180: 0.9454:\n\n",
      "Accuracy at step 190: 0.9517:\n\n",
      "Adding run metadata for 199:\n\n",
      "Accuracy at step 200: 0.9428:\n\n",
      "Accuracy at step 210: 0.948:\n\n",
      "Accuracy at step 220: 0.9546:\n\n",
      "Accuracy at step 230: 0.957:\n\n",
      "Accuracy at step 240: 0.9549:\n\n",
      "Accuracy at step 250: 0.946:\n\n",
      "Accuracy at step 260: 0.9463:\n\n",
      "Accuracy at step 270: 0.9562:\n\n",
      "Accuracy at step 280: 0.9352:\n\n",
      "Accuracy at step 290: 0.9463:\n\n",
      "Adding run metadata for 299:\n\n",
      "Accuracy at step 300: 0.9434:\n\n",
      "Accuracy at step 310: 0.9569:\n\n",
      "Accuracy at step 320: 0.9518:\n\n",
      "Accuracy at step 330: 0.9541:\n\n",
      "Accuracy at step 340: 0.9507:\n\n",
      "Accuracy at step 350: 0.9514:\n\n",
      "Accuracy at step 360: 0.9568:\n\n",
      "Accuracy at step 370: 0.9633:\n\n",
      "Accuracy at step 380: 0.9621:\n\n",
      "Accuracy at step 390: 0.9594:\n\n",
      "Adding run metadata for 399:\n\n",
      "Accuracy at step 400: 0.9594:\n\n",
      "Accuracy at step 410: 0.9596:\n\n",
      "Accuracy at step 420: 0.9624:\n\n",
      "Accuracy at step 430: 0.9611:\n\n",
      "Accuracy at step 440: 0.9641:\n\n",
      "Accuracy at step 450: 0.965:\n\n",
      "Accuracy at step 460: 0.9632:\n\n",
      "Accuracy at step 470: 0.9638:\n\n",
      "Accuracy at step 480: 0.9624:\n\n",
      "Accuracy at step 490: 0.9621:\n\n",
      "Adding run metadata for 499:\n\n",
      "Accuracy at step 500: 0.9632:\n\n",
      "Accuracy at step 510: 0.9637:\n\n",
      "Accuracy at step 520: 0.9631:\n\n",
      "Accuracy at step 530: 0.9621:\n\n",
      "Accuracy at step 540: 0.963:\n\n",
      "Accuracy at step 550: 0.9626:\n\n",
      "Accuracy at step 560: 0.9654:\n\n",
      "Accuracy at step 570: 0.9637:\n\n",
      "Accuracy at step 580: 0.9675:\n\n",
      "Accuracy at step 590: 0.9655:\n\n",
      "Adding run metadata for 599:\n\n",
      "Accuracy at step 600: 0.9572:\n\n",
      "Accuracy at step 610: 0.967:\n\n",
      "Accuracy at step 620: 0.9644:\n\n",
      "Accuracy at step 630: 0.9638:\n\n",
      "Accuracy at step 640: 0.9606:\n\n",
      "Accuracy at step 650: 0.9632:\n\n",
      "Accuracy at step 660: 0.9598:\n\n",
      "Accuracy at step 670: 0.966:\n\n",
      "Accuracy at step 680: 0.968:\n\n",
      "Accuracy at step 690: 0.9648:\n\n",
      "Adding run metadata for 699:\n\n",
      "Accuracy at step 700: 0.9663:\n\n",
      "Accuracy at step 710: 0.9635:\n\n",
      "Accuracy at step 720: 0.9685:\n\n",
      "Accuracy at step 730: 0.9652:\n\n",
      "Accuracy at step 740: 0.9692:\n\n",
      "Accuracy at step 750: 0.9674:\n\n",
      "Accuracy at step 760: 0.9674:\n\n",
      "Accuracy at step 770: 0.9668:\n\n",
      "Accuracy at step 780: 0.9681:\n\n",
      "Accuracy at step 790: 0.9677:\n\n",
      "Adding run metadata for 799:\n\n",
      "Accuracy at step 800: 0.9672:\n\n",
      "Accuracy at step 810: 0.9696:\n\n",
      "Accuracy at step 820: 0.9663:\n\n",
      "Accuracy at step 830: 0.9716:\n\n",
      "Accuracy at step 840: 0.9722:\n\n",
      "Accuracy at step 850: 0.9668:\n\n",
      "Accuracy at step 860: 0.9711:\n\n",
      "Accuracy at step 870: 0.9709:\n\n",
      "Accuracy at step 880: 0.9671:\n\n",
      "Accuracy at step 890: 0.9668:\n\n",
      "Adding run metadata for 899:\n\n",
      "Accuracy at step 900: 0.9701:\n\n",
      "Accuracy at step 910: 0.9697:\n\n",
      "Accuracy at step 920: 0.9572:\n\n",
      "Accuracy at step 930: 0.9632:\n\n",
      "Accuracy at step 940: 0.9698:\n\n",
      "Accuracy at step 950: 0.9693:\n\n",
      "Accuracy at step 960: 0.9717:\n\n",
      "Accuracy at step 970: 0.9695:\n\n",
      "Accuracy at step 980: 0.9716:\n\n",
      "Accuracy at step 990: 0.9628:\n\n",
      "Adding run metadata for 999:\n\n"
     ],
     "output_type": "stream"
    }
   ],
   "source": [
    "submarine_client.get_log(id)"
   ]
  },
  {
   "cell_type": "markdown",
   "metadata": {},
   "source": [
    "### Delete the experiment"
   ]
  },
  {
   "cell_type": "code",
   "execution_count": 9,
   "metadata": {
    "pycharm": {
     "name": "#%%\n",
     "is_executing": false
    }
   },
   "outputs": [
    {
     "data": {
      "text/plain": "{'experimentId': 'experiment_1592478280496_0001',\n 'name': 'mnist',\n 'uid': 'd665447b-592b-43e7-9641-4c84dfc568b3',\n 'status': 'Deleted',\n 'acceptedTime': '2020-06-18T19:05:05.000+08:00',\n 'createdTime': '2020-06-18T19:05:05.000+08:00',\n 'runningTime': '2020-06-18T19:05:05.000+08:00',\n 'finishedTime': '2020-06-18T19:08:59.000+08:00',\n 'spec': {'meta': {'name': 'mnist',\n   'namespace': 'submarine',\n   'framework': 'Tensorflow',\n   'cmd': 'python /var/tf_mnist/mnist_with_summaries.py --log_dir=/train/log --learning_rate=0.01 --batch_size=150',\n   'envVars': {'ENV1': 'ENV1'}},\n  'environment': {'image': 'gcr.io/kubeflow-ci/tf-mnist-with-summaries:1.0'},\n  'spec': {'Worker': {'replicas': 1,\n    'resources': 'cpu=4,memory=2048M',\n    'name': None,\n    'image': None,\n    'cmd': None,\n    'envVars': None,\n    'resourceMap': {'memory': '2048M', 'cpu': '4'}}}}}"
     },
     "metadata": {},
     "output_type": "execute_result",
     "execution_count": 9
    }
   ],
   "source": [
    "submarine_client.delete_experiment(id)"
   ]
  },
  {
   "cell_type": "code",
   "execution_count": null,
   "metadata": {},
   "outputs": [],
   "source": []
  }
 ],
 "metadata": {
  "kernelspec": {
   "display_name": "Python 3",
   "language": "python",
   "name": "python3"
  },
  "language_info": {
   "codemirror_mode": {
    "name": "ipython",
    "version": 3
   },
   "file_extension": ".py",
   "mimetype": "text/x-python",
   "name": "python",
   "nbconvert_exporter": "python",
   "pygments_lexer": "ipython3",
   "version": "3.7.6"
  },
  "pycharm": {
   "stem_cell": {
    "cell_type": "raw",
    "source": [],
    "metadata": {
     "collapsed": false
    }
   }
  }
 },
 "nbformat": 4,
 "nbformat_minor": 1
}
