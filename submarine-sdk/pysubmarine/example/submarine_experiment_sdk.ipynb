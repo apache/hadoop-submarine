{
 "cells": [
  {
   "cell_type": "markdown",
   "metadata": {},
   "source": [
    "## Sample for Submarine Experiment SDK\n",
    "\n",
    "The notebook shows how to use Submarine Experiment SDK to create, get, list, log, delete Submarine Experiment."
   ]
  },
  {
   "cell_type": "code",
   "execution_count": 1,
   "metadata": {
    "pycharm": {
     "is_executing": false
    }
   },
   "outputs": [],
   "source": [
    "from __future__ import print_function\n",
    "import submarine\n",
    "from submarine.experiment.models.environment import Environment\n",
    "from submarine.experiment.models.experiment_spec import ExperimentSpec\n",
    "from submarine.experiment.models.experiment_task_spec import ExperimentTaskSpec\n",
    "from submarine.experiment.models.experiment_meta import ExperimentMeta"
   ]
  },
  {
   "cell_type": "markdown",
   "metadata": {},
   "source": [
    "### Create Submarine Client"
   ]
  },
  {
   "cell_type": "code",
   "execution_count": 2,
   "metadata": {
    "pycharm": {
     "is_executing": false,
     "name": "#%%\n"
    }
   },
   "outputs": [],
   "source": [
    "submarine_client = submarine.ExperimentClient(host='http://localhost:8080')"
   ]
  },
  {
   "cell_type": "markdown",
   "metadata": {
    "pycharm": {
     "name": "#%% md\n"
    }
   },
   "source": [
    "### Define TensorFlow experiment spec¶\n",
    "Define Submarine spec¶\n",
    "The demo only creates a PS and worker of TF experiment to run mnist sample."
   ]
  },
  {
   "cell_type": "code",
   "execution_count": 3,
   "metadata": {
    "pycharm": {
     "is_executing": false,
     "name": "#%%\n"
    }
   },
   "outputs": [],
   "source": [
    "environment = Environment(image='gcr.io/kubeflow-ci/tf-dist-mnist-test:1.0')\n",
    "experiment_meta = ExperimentMeta(name='mnist-dist',\n",
    "                                 namespace='default',\n",
    "                                 framework='Tensorflow',\n",
    "                                 cmd='python /var/tf_dist_mnist/dist_mnist.py --train_steps=100'\n",
    "                                 , env_vars={'ENV1': 'ENV1'})\n",
    "\n",
    "worker_spec = ExperimentTaskSpec(resources='cpu=1,memory=1024M',\n",
    "                                 replicas=1)\n",
    "ps_spec = ExperimentTaskSpec(resources='cpu=1,memory=1024M',\n",
    "                                 replicas=1)\n",
    "\n",
    "experiment_spec = ExperimentSpec(meta=experiment_meta,\n",
    "                                 environment=environment,\n",
    "                                 spec={'Ps' : ps_spec,'Worker': worker_spec})\n"
   ]
  },
  {
   "cell_type": "markdown",
   "metadata": {},
   "source": [
    "### Create experiment"
   ]
  },
  {
   "cell_type": "code",
   "execution_count": 4,
   "metadata": {
    "pycharm": {
     "is_executing": false,
     "name": "#%%\n"
    },
    "scrolled": true
   },
   "outputs": [
    {
     "data": {
      "text/plain": [
       "{'experimentId': 'experiment_1592797815559_0001',\n",
       " 'name': 'mnist-dist',\n",
       " 'uid': 'cdee2adf-b43b-11ea-b5f2-025000000001',\n",
       " 'status': 'Accepted',\n",
       " 'acceptedTime': '2020-06-22T11:52:33.000+08:00',\n",
       " 'createdTime': None,\n",
       " 'runningTime': None,\n",
       " 'finishedTime': None,\n",
       " 'spec': {'meta': {'name': 'mnist-dist',\n",
       "   'namespace': 'default',\n",
       "   'framework': 'Tensorflow',\n",
       "   'cmd': 'python /var/tf_dist_mnist/dist_mnist.py --train_steps=100',\n",
       "   'envVars': {'ENV1': 'ENV1'}},\n",
       "  'environment': {'image': 'gcr.io/kubeflow-ci/tf-dist-mnist-test:1.0'},\n",
       "  'spec': {'Ps': {'replicas': 1,\n",
       "    'resources': 'cpu=1,memory=1024M',\n",
       "    'name': None,\n",
       "    'image': None,\n",
       "    'cmd': None,\n",
       "    'envVars': None,\n",
       "    'resourceMap': {'memory': '1024M', 'cpu': '1'}},\n",
       "   'Worker': {'replicas': 1,\n",
       "    'resources': 'cpu=1,memory=1024M',\n",
       "    'name': None,\n",
       "    'image': None,\n",
       "    'cmd': None,\n",
       "    'envVars': None,\n",
       "    'resourceMap': {'memory': '1024M', 'cpu': '1'}}}}}"
      ]
     },
     "execution_count": 4,
     "metadata": {},
     "output_type": "execute_result"
    }
   ],
   "source": [
    "experiment = submarine_client.create_experiment(experiment_spec=experiment_spec)\n",
    "experiment"
   ]
  },
  {
   "cell_type": "markdown",
   "metadata": {},
   "source": [
    "### Get the created experiment"
   ]
  },
  {
   "cell_type": "code",
   "execution_count": 5,
   "metadata": {
    "pycharm": {
     "is_executing": false,
     "name": "#%%\n"
    }
   },
   "outputs": [
    {
     "data": {
      "text/plain": [
       "{'experimentId': 'experiment_1592797815559_0001',\n",
       " 'name': 'mnist-dist',\n",
       " 'uid': 'cdee2adf-b43b-11ea-b5f2-025000000001',\n",
       " 'status': 'Running',\n",
       " 'acceptedTime': '2020-06-22T11:52:33.000+08:00',\n",
       " 'createdTime': '2020-06-22T11:52:33.000+08:00',\n",
       " 'runningTime': '2020-06-22T11:52:36.000+08:00',\n",
       " 'finishedTime': None,\n",
       " 'spec': {'meta': {'name': 'mnist-dist',\n",
       "   'namespace': 'default',\n",
       "   'framework': 'Tensorflow',\n",
       "   'cmd': 'python /var/tf_dist_mnist/dist_mnist.py --train_steps=100',\n",
       "   'envVars': {'ENV1': 'ENV1'}},\n",
       "  'environment': {'image': 'gcr.io/kubeflow-ci/tf-dist-mnist-test:1.0'},\n",
       "  'spec': {'Ps': {'replicas': 1,\n",
       "    'resources': 'cpu=1,memory=1024M',\n",
       "    'name': None,\n",
       "    'image': None,\n",
       "    'cmd': None,\n",
       "    'envVars': None,\n",
       "    'resourceMap': {'memory': '1024M', 'cpu': '1'}},\n",
       "   'Worker': {'replicas': 1,\n",
       "    'resources': 'cpu=1,memory=1024M',\n",
       "    'name': None,\n",
       "    'image': None,\n",
       "    'cmd': None,\n",
       "    'envVars': None,\n",
       "    'resourceMap': {'memory': '1024M', 'cpu': '1'}}}}}"
      ]
     },
     "execution_count": 5,
     "metadata": {},
     "output_type": "execute_result"
    }
   ],
   "source": [
    "id = experiment['experimentId']\n",
    "submarine_client.get_experiment(id)"
   ]
  },
  {
   "cell_type": "markdown",
   "metadata": {},
   "source": [
    "### List all running experiments"
   ]
  },
  {
   "cell_type": "code",
   "execution_count": 6,
   "metadata": {
    "pycharm": {
     "is_executing": false,
     "name": "#%%\n"
    },
    "scrolled": true
   },
   "outputs": [
    {
     "data": {
      "text/plain": [
       "[{'experimentId': 'experiment_1592797815559_0001',\n",
       "  'name': 'mnist-dist',\n",
       "  'uid': 'cdee2adf-b43b-11ea-b5f2-025000000001',\n",
       "  'status': 'Running',\n",
       "  'acceptedTime': '2020-06-22T11:52:33.000+08:00',\n",
       "  'createdTime': '2020-06-22T11:52:33.000+08:00',\n",
       "  'runningTime': '2020-06-22T11:52:36.000+08:00',\n",
       "  'finishedTime': None,\n",
       "  'spec': {'meta': {'name': 'mnist-dist',\n",
       "    'namespace': 'default',\n",
       "    'framework': 'Tensorflow',\n",
       "    'cmd': 'python /var/tf_dist_mnist/dist_mnist.py --train_steps=100',\n",
       "    'envVars': {'ENV1': 'ENV1'}},\n",
       "   'environment': {'image': 'gcr.io/kubeflow-ci/tf-dist-mnist-test:1.0'},\n",
       "   'spec': {'Ps': {'replicas': 1,\n",
       "     'resources': 'cpu=1,memory=1024M',\n",
       "     'name': None,\n",
       "     'image': None,\n",
       "     'cmd': None,\n",
       "     'envVars': None,\n",
       "     'resourceMap': {'memory': '1024M', 'cpu': '1'}},\n",
       "    'Worker': {'replicas': 1,\n",
       "     'resources': 'cpu=1,memory=1024M',\n",
       "     'name': None,\n",
       "     'image': None,\n",
       "     'cmd': None,\n",
       "     'envVars': None,\n",
       "     'resourceMap': {'memory': '1024M', 'cpu': '1'}}}}}]"
      ]
     },
     "execution_count": 6,
     "metadata": {},
     "output_type": "execute_result"
    }
   ],
   "source": [
    "status = 'running'\n",
    "submarine_client.list_experiments(status=status)"
   ]
  },
  {
   "cell_type": "markdown",
   "metadata": {},
   "source": [
    "### Wait for the experiment to finish"
   ]
  },
  {
   "cell_type": "code",
   "execution_count": 7,
   "metadata": {
    "scrolled": false
   },
   "outputs": [
    {
     "name": "stderr",
     "output_type": "stream",
     "text": [
      "/usr/local/lib/python2.7/dist-packages/h5py/__init__.py:36: FutureWarning: Conversion of the second argument of issubdtype from `float` to `np.floating` is deprecated. In future, it will be treated as `np.float64 == np.dtype(float).type`.\n",
      "  from ._conv import register_converters as _register_converters\n",
      "2020-06-22 03:53:04.353611: I tensorflow/core/platform/cpu_feature_guard.cc:137] Your CPU supports instructions that this TensorFlow binary was not compiled to use: SSE4.1 SSE4.2 AVX AVX2 FMA\n",
      "2020-06-22 03:53:04.355167: I tensorflow/core/distributed_runtime/rpc/grpc_channel.cc:215] Initialize GrpcChannelCache for job ps -> {0 -> localhost:2222}\n",
      "2020-06-22 03:53:04.355275: I tensorflow/core/distributed_runtime/rpc/grpc_channel.cc:215] Initialize GrpcChannelCache for job worker -> {0 -> mnist-dist-worker-0.default.svc:2222}\n",
      "2020-06-22 03:53:04.355746: I tensorflow/core/distributed_runtime/rpc/grpc_server_lib.cc:324] Started server with target: grpc://localhost:2222\n"
     ]
    }
   ],
   "source": [
    "submarine_client.wait_for_finish(id)"
   ]
  },
  {
   "cell_type": "markdown",
   "metadata": {},
   "source": [
    "### Get specific experiment training log "
   ]
  },
  {
   "cell_type": "code",
   "execution_count": null,
   "metadata": {
    "pycharm": {
     "is_executing": false,
     "name": "#%%\n"
    },
    "scrolled": true
   },
   "outputs": [],
   "source": [
    "submarine_client.get_log(id)"
   ]
  },
  {
   "cell_type": "markdown",
   "metadata": {},
   "source": [
    "### Delete the experiment"
   ]
  },
  {
   "cell_type": "code",
   "execution_count": null,
   "metadata": {
    "pycharm": {
     "is_executing": false,
     "name": "#%%\n"
    }
   },
   "outputs": [],
   "source": [
    "submarine_client.delete_experiment(id)"
   ]
  },
  {
   "cell_type": "code",
   "execution_count": null,
   "metadata": {},
   "outputs": [],
   "source": []
  }
 ],
 "metadata": {
  "kernelspec": {
   "display_name": "Python 3",
   "language": "python",
   "name": "python3"
  },
  "language_info": {
   "codemirror_mode": {
    "name": "ipython",
    "version": 3
   },
   "file_extension": ".py",
   "mimetype": "text/x-python",
   "name": "python",
   "nbconvert_exporter": "python",
   "pygments_lexer": "ipython3",
   "version": "3.7.7"
  },
  "pycharm": {
   "stem_cell": {
    "cell_type": "raw",
    "metadata": {
     "collapsed": false
    },
    "source": []
   }
  }
 },
 "nbformat": 4,
 "nbformat_minor": 1
}
