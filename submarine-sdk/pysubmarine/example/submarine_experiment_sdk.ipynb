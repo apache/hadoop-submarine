{
 "cells": [
  {
   "cell_type": "markdown",
   "metadata": {},
   "source": [
    "## Sample for Submarine Experiment SDK\n",
    "\n",
    "The notebook shows how to use Submarine Experiment SDK to create, get, list, log, delete Submarine Experiment."
   ]
  },
  {
   "cell_type": "code",
   "execution_count": 1,
   "metadata": {
    "pycharm": {
     "is_executing": false
    }
   },
   "outputs": [],
   "source": [
    "from __future__ import print_function\n",
    "import submarine\n",
    "from submarine.experiment.models.environment import Environment\n",
    "from submarine.experiment.models.experiment_spec import ExperimentSpec\n",
    "from submarine.experiment.models.experiment_task_spec import ExperimentTaskSpec\n",
    "from submarine.experiment.models.experiment_meta import ExperimentMeta"
   ]
  },
  {
   "cell_type": "markdown",
   "metadata": {},
   "source": [
    "### Create Submarine Client"
   ]
  },
  {
   "cell_type": "code",
   "execution_count": 2,
   "metadata": {
    "pycharm": {
     "is_executing": false,
     "name": "#%%\n"
    }
   },
   "outputs": [],
   "source": [
    "submarine_client = submarine.ExperimentClient(host='http://192.168.103.9:8080')"
   ]
  },
  {
   "cell_type": "markdown",
   "metadata": {
    "pycharm": {
     "name": "#%% md\n"
    }
   },
   "source": [
    "### Define TensorFlow experiment spec¶\n",
    "Define Submarine spec¶\n",
    "The demo only creates a worker of TF experiment to run mnist sample."
   ]
  },
  {
   "cell_type": "code",
   "execution_count": 3,
   "metadata": {
    "pycharm": {
     "is_executing": false,
     "name": "#%%\n"
    }
   },
   "outputs": [],
   "source": [
    "experiment_meta = ExperimentMeta(name='mnist',\n",
    "                                 namespace='submarine',\n",
    "                                 framework='Tensorflow',\n",
    "                                 cmd='python /var/tf_mnist/mnist_with_summaries.py'\n",
    "                                    ' --log_dir=/train/log --learning_rate=0.01'\n",
    "                                    ' --batch_size=150',\n",
    "                                 env_vars={'ENV1': 'ENV1'})\n",
    "\n",
    "worker_spec = ExperimentTaskSpec(resources='cpu=4,memory=2048M',\n",
    "                                 replicas=1)\n",
    "\n",
    "environment = Environment(image='gcr.io/kubeflow-ci/tf-mnist-with-summaries:1.0')\n",
    "\n",
    "experiment_spec = ExperimentSpec(meta=experiment_meta,\n",
    "                                 environment=environment,\n",
    "                                 spec={'Worker': worker_spec}) \n"
   ]
  },
  {
   "cell_type": "markdown",
   "metadata": {},
   "source": [
    "### Create experiment"
   ]
  },
  {
   "cell_type": "code",
   "execution_count": 5,
   "metadata": {
    "pycharm": {
     "name": "#%%\n",
     "is_executing": false
    },
    "scrolled": true
   },
   "outputs": [
    {
     "data": {
      "text/plain": "{'experimentId': 'experiment_1592476725472_0004',\n 'name': 'mnist',\n 'uid': '274c0fcf-f6a9-4544-8957-7c91dbedc690',\n 'status': 'Accepted',\n 'acceptedTime': '2020-06-18T18:53:04.000+08:00',\n 'createdTime': None,\n 'runningTime': None,\n 'finishedTime': None,\n 'spec': {'meta': {'name': 'mnist',\n   'namespace': 'submarine',\n   'framework': 'Tensorflow',\n   'cmd': 'python /var/tf_mnist/mnist_with_summaries.py --log_dir=/train/log --learning_rate=0.01 --batch_size=150',\n   'envVars': {'ENV1': 'ENV1'}},\n  'environment': {'image': 'gcr.io/kubeflow-ci/tf-mnist-with-summaries:1.0'},\n  'spec': {'Worker': {'replicas': 1,\n    'resources': 'cpu=4,memory=2048M',\n    'name': None,\n    'image': None,\n    'cmd': None,\n    'envVars': None,\n    'resourceMap': {'memory': '2048M', 'cpu': '4'}}}}}"
     },
     "metadata": {},
     "output_type": "execute_result",
     "execution_count": 5
    }
   ],
   "source": [
    "experiment = submarine_client.create_experiment(experiment_spec=experiment_spec)\n",
    "experiment"
   ]
  },
  {
   "cell_type": "markdown",
   "metadata": {},
   "source": [
    "### Get the created experiment"
   ]
  },
  {
   "cell_type": "code",
   "execution_count": 6,
   "metadata": {
    "pycharm": {
     "name": "#%%\n",
     "is_executing": false
    }
   },
   "outputs": [
    {
     "data": {
      "text/plain": "{'experimentId': 'experiment_1592476725472_0004',\n 'name': 'mnist',\n 'uid': '274c0fcf-f6a9-4544-8957-7c91dbedc690',\n 'status': 'Accepted',\n 'acceptedTime': '2020-06-18T18:53:04.000+08:00',\n 'createdTime': None,\n 'runningTime': None,\n 'finishedTime': None,\n 'spec': {'meta': {'name': 'mnist',\n   'namespace': 'submarine',\n   'framework': 'Tensorflow',\n   'cmd': 'python /var/tf_mnist/mnist_with_summaries.py --log_dir=/train/log --learning_rate=0.01 --batch_size=150',\n   'envVars': {'ENV1': 'ENV1'}},\n  'environment': {'image': 'gcr.io/kubeflow-ci/tf-mnist-with-summaries:1.0'},\n  'spec': {'Worker': {'replicas': 1,\n    'resources': 'cpu=4,memory=2048M',\n    'name': None,\n    'image': None,\n    'cmd': None,\n    'envVars': None,\n    'resourceMap': {'memory': '2048M', 'cpu': '4'}}}}}"
     },
     "metadata": {},
     "output_type": "execute_result",
     "execution_count": 6
    }
   ],
   "source": [
    "id = experiment['experimentId']\n",
    "submarine_client.get_experiment(id)"
   ]
  },
  {
   "cell_type": "markdown",
   "metadata": {},
   "source": [
    "### List all running experiments"
   ]
  },
  {
   "cell_type": "code",
   "execution_count": 11,
   "metadata": {
    "pycharm": {
     "name": "#%%\n",
     "is_executing": false
    }
   },
   "outputs": [
    {
     "data": {
      "text/plain": "[{'experimentId': 'experiment_1592476725472_0004',\n  'name': 'mnist',\n  'uid': '274c0fcf-f6a9-4544-8957-7c91dbedc690',\n  'status': 'Running',\n  'acceptedTime': '2020-06-18T18:53:04.000+08:00',\n  'createdTime': '2020-06-18T18:53:38.000+08:00',\n  'runningTime': '2020-06-18T18:53:39.000+08:00',\n  'finishedTime': None,\n  'spec': {'meta': {'name': 'mnist',\n    'namespace': 'submarine',\n    'framework': 'Tensorflow',\n    'cmd': 'python /var/tf_mnist/mnist_with_summaries.py --log_dir=/train/log --learning_rate=0.01 --batch_size=150',\n    'envVars': {'ENV1': 'ENV1'}},\n   'environment': {'image': 'gcr.io/kubeflow-ci/tf-mnist-with-summaries:1.0'},\n   'spec': {'Worker': {'replicas': 1,\n     'resources': 'cpu=4,memory=2048M',\n     'name': None,\n     'image': None,\n     'cmd': None,\n     'envVars': None,\n     'resourceMap': {'memory': '2048M', 'cpu': '4'}}}}},\n {'experimentId': 'experiment_1592476725472_0003',\n  'name': 'mnist',\n  'uid': '274c0fcf-f6a9-4544-8957-7c91dbedc690',\n  'status': 'Running',\n  'acceptedTime': '2020-06-18T18:53:04.000+08:00',\n  'createdTime': '2020-06-18T18:53:38.000+08:00',\n  'runningTime': '2020-06-18T18:53:39.000+08:00',\n  'finishedTime': None,\n  'spec': {'meta': {'name': 'mnist',\n    'namespace': 'submarine',\n    'framework': 'Tensorflow',\n    'cmd': 'python /var/tf_mnist/mnist_with_summaries.py --log_dir=/train/log --learning_rate=0.01 --batch_size=150',\n    'envVars': {'ENV1': 'ENV1'}},\n   'environment': {'image': 'gcr.io/kubeflow-ci/tf-mnist-with-summaries:1.0'},\n   'spec': {'Worker': {'replicas': 1,\n     'resources': 'cpu=4,memory=2048M',\n     'name': None,\n     'image': None,\n     'cmd': None,\n     'envVars': None,\n     'resourceMap': {'memory': '2048M', 'cpu': '4'}}}}}]"
     },
     "metadata": {},
     "output_type": "execute_result",
     "execution_count": 11
    }
   ],
   "source": [
    "status = 'running'\n",
    "submarine_client.list_experiments(status=status)"
   ]
  },
  {
   "cell_type": "markdown",
   "metadata": {},
   "source": [
    "### Get specific experiment training log "
   ]
  },
  {
   "cell_type": "code",
   "execution_count": 8,
   "metadata": {
    "pycharm": {
     "name": "#%%\n",
     "is_executing": false
    }
   },
   "outputs": [
    {
     "name": "stderr",
     "text": [
      "The logs of Pod mnist-worker-0:\n\n",
      "WARNING:tensorflow:From /var/tf_mnist/mnist_with_summaries.py:39: read_data_sets (from tensorflow.contrib.learn.python.learn.datasets.mnist) is deprecated and will be removed in a future version.:\n\n",
      "Instructions for updating::\n\n",
      "Please use alternatives such as official/mnist/dataset.py from tensorflow/models.:\n\n",
      "WARNING:tensorflow:From /usr/local/lib/python2.7/dist-packages/tensorflow/contrib/learn/python/learn/datasets/mnist.py:260: maybe_download (from tensorflow.contrib.learn.python.learn.datasets.base) is deprecated and will be removed in a future version.:\n\n",
      "Instructions for updating::\n\n",
      "Please write your own downloading logic.:\n\n",
      "WARNING:tensorflow:From /usr/local/lib/python2.7/dist-packages/tensorflow/contrib/learn/python/learn/datasets/base.py:252: wrapped_fn (from tensorflow.contrib.learn.python.learn.datasets.base) is deprecated and will be removed in a future version.:\n\n",
      "Instructions for updating::\n\n",
      "Please use urllib or similar directly.:\n\n",
      "WARNING:tensorflow:From /usr/local/lib/python2.7/dist-packages/tensorflow/contrib/learn/python/learn/datasets/mnist.py:262: extract_images (from tensorflow.contrib.learn.python.learn.datasets.mnist) is deprecated and will be removed in a future version.:\n\n",
      "Instructions for updating::\n\n",
      "Please use tf.data to implement this functionality.:\n\n",
      "WARNING:tensorflow:From /usr/local/lib/python2.7/dist-packages/tensorflow/contrib/learn/python/learn/datasets/mnist.py:267: extract_labels (from tensorflow.contrib.learn.python.learn.datasets.mnist) is deprecated and will be removed in a future version.:\n\n",
      "Instructions for updating::\n\n",
      "Please use tf.data to implement this functionality.:\n\n",
      "WARNING:tensorflow:From /usr/local/lib/python2.7/dist-packages/tensorflow/contrib/learn/python/learn/datasets/mnist.py:290: __init__ (from tensorflow.contrib.learn.python.learn.datasets.mnist) is deprecated and will be removed in a future version.:\n\n",
      "Instructions for updating::\n\n",
      "Please use alternatives such as official/mnist/dataset.py from tensorflow/models.:\n\n",
      "2020-06-18 10:50:35.861699: I tensorflow/core/platform/cpu_feature_guard.cc:141] Your CPU supports instructions that this TensorFlow binary was not compiled to use: AVX2 FMA:\n\n"
     ],
     "output_type": "stream"
    }
   ],
   "source": [
    "submarine_client.get_log(id)"
   ]
  },
  {
   "cell_type": "markdown",
   "metadata": {},
   "source": [
    "### Delete the experiment"
   ]
  },
  {
   "cell_type": "code",
   "execution_count": 12,
   "metadata": {
    "pycharm": {
     "name": "#%%\n",
     "is_executing": false
    }
   },
   "outputs": [
    {
     "data": {
      "text/plain": "{'experimentId': 'experiment_1592476725472_0004',\n 'name': 'mnist',\n 'uid': '274c0fcf-f6a9-4544-8957-7c91dbedc690',\n 'status': 'Deleted',\n 'acceptedTime': '2020-06-18T18:53:04.000+08:00',\n 'createdTime': '2020-06-18T18:53:38.000+08:00',\n 'runningTime': '2020-06-18T18:53:39.000+08:00',\n 'finishedTime': None,\n 'spec': {'meta': {'name': 'mnist',\n   'namespace': 'submarine',\n   'framework': 'Tensorflow',\n   'cmd': 'python /var/tf_mnist/mnist_with_summaries.py --log_dir=/train/log --learning_rate=0.01 --batch_size=150',\n   'envVars': {'ENV1': 'ENV1'}},\n  'environment': {'image': 'gcr.io/kubeflow-ci/tf-mnist-with-summaries:1.0'},\n  'spec': {'Worker': {'replicas': 1,\n    'resources': 'cpu=4,memory=2048M',\n    'name': None,\n    'image': None,\n    'cmd': None,\n    'envVars': None,\n    'resourceMap': {'memory': '2048M', 'cpu': '4'}}}}}"
     },
     "metadata": {},
     "output_type": "execute_result",
     "execution_count": 12
    }
   ],
   "source": [
    "submarine_client.delete_experiment(id)"
   ]
  },
  {
   "cell_type": "code",
   "execution_count": null,
   "metadata": {},
   "outputs": [],
   "source": []
  }
 ],
 "metadata": {
  "kernelspec": {
   "display_name": "Python 3",
   "language": "python",
   "name": "python3"
  },
  "language_info": {
   "codemirror_mode": {
    "name": "ipython",
    "version": 3
   },
   "file_extension": ".py",
   "mimetype": "text/x-python",
   "name": "python",
   "nbconvert_exporter": "python",
   "pygments_lexer": "ipython3",
   "version": "3.7.6"
  },
  "pycharm": {
   "stem_cell": {
    "cell_type": "raw",
    "source": [],
    "metadata": {
     "collapsed": false
    }
   }
  }
 },
 "nbformat": 4,
 "nbformat_minor": 1
}
