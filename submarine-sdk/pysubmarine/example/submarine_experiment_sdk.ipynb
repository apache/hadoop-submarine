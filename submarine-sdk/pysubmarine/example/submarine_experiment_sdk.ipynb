{
 "cells": [
  {
   "cell_type": "markdown",
   "metadata": {},
   "source": [
    "## Sample for Submarine Experiment SDK\n",
    "\n",
    "The notebook shows how to use Submarine Experiment SDK to create, get, list, log, delete Submarine Experiment."
   ]
  },
  {
   "cell_type": "code",
   "execution_count": 1,
   "metadata": {
    "pycharm": {
     "is_executing": false
    }
   },
   "outputs": [],
   "source": [
    "from __future__ import print_function\n",
    "import submarine\n",
    "from submarine.experiment.models.environment import Environment\n",
    "from submarine.experiment.models.experiment_spec import ExperimentSpec\n",
    "from submarine.experiment.models.experiment_task_spec import ExperimentTaskSpec\n",
    "from submarine.experiment.models.experiment_meta import ExperimentMeta"
   ]
  },
  {
   "cell_type": "markdown",
   "metadata": {},
   "source": [
    "### Create Submarine Client"
   ]
  },
  {
   "cell_type": "code",
   "execution_count": 2,
   "metadata": {
    "pycharm": {
     "is_executing": false,
     "name": "#%%\n"
    }
   },
   "outputs": [],
   "source": [
    "submarine_client = submarine.ExperimentClient(host='http://localhost:8080')"
   ]
  },
  {
   "cell_type": "markdown",
   "metadata": {
    "pycharm": {
     "name": "#%% md\n"
    }
   },
   "source": [
    "### Define TensorFlow experiment spec¶\n",
    "Define Submarine spec¶\n",
    "The demo only creates a PS and worker of TF experiment to run mnist sample."
   ]
  },
  {
   "cell_type": "code",
   "execution_count": 3,
   "metadata": {
    "pycharm": {
     "is_executing": false,
     "name": "#%%\n"
    }
   },
   "outputs": [],
   "source": [
    "experiment_meta = ExperimentMeta(name='mnist',\n",
    "                                 namespace='submarine',\n",
    "                                 framework='Tensorflow',\n",
    "                                 cmd='python /var/tf_mnist/mnist_with_summaries.py'\n",
    "                                    ' --log_dir=/train/log --learning_rate=0.01'\n",
    "                                    ' --batch_size=150',\n",
    "                                 env_vars={'ENV1': 'ENV1'})\n",
    "\n",
    "ps_spec = ExperimentTaskSpec(resources='cpu=1,memory=1024M',\n",
    "                                 replicas=1)\n",
    "worker_spec = ExperimentTaskSpec(resources='cpu=1,memory=1024M',\n",
    "                                 replicas=1)\n",
    "\n",
    "environment = Environment(image='gcr.io/kubeflow-ci/tf-mnist-with-summaries:1.0')\n",
    "\n",
    "experiment_spec = ExperimentSpec(meta=experiment_meta,\n",
    "                                 environment=environment,\n",
    "                                 spec={'Ps' : ps_spec, 'Worker': worker_spec}) \n"
   ]
  },
  {
   "cell_type": "markdown",
   "metadata": {},
   "source": [
    "### Create experiment"
   ]
  },
  {
   "cell_type": "code",
   "execution_count": 4,
   "metadata": {
    "pycharm": {
     "is_executing": false,
     "name": "#%%\n"
    },
    "scrolled": true
   },
   "outputs": [
    {
     "data": {
      "text/plain": [
       "{'experimentId': 'experiment_1592566290966_0001',\n",
       " 'name': 'mnist',\n",
       " 'uid': 'dcfe6a50-b220-11ea-b5f2-025000000001',\n",
       " 'status': 'Accepted',\n",
       " 'acceptedTime': '2020-06-19T19:34:40.000+08:00',\n",
       " 'createdTime': None,\n",
       " 'runningTime': None,\n",
       " 'finishedTime': None,\n",
       " 'spec': {'meta': {'name': 'mnist',\n",
       "   'namespace': 'submarine',\n",
       "   'framework': 'Tensorflow',\n",
       "   'cmd': 'python /var/tf_mnist/mnist_with_summaries.py --log_dir=/train/log --learning_rate=0.01 --batch_size=150',\n",
       "   'envVars': {'ENV1': 'ENV1'}},\n",
       "  'environment': {'image': 'gcr.io/kubeflow-ci/tf-mnist-with-summaries:1.0'},\n",
       "  'spec': {'Ps': {'replicas': 1,\n",
       "    'resources': 'cpu=1,memory=1024M',\n",
       "    'name': None,\n",
       "    'image': None,\n",
       "    'cmd': None,\n",
       "    'envVars': None,\n",
       "    'resourceMap': {'memory': '1024M', 'cpu': '1'}},\n",
       "   'Worker': {'replicas': 1,\n",
       "    'resources': 'cpu=1,memory=1024M',\n",
       "    'name': None,\n",
       "    'image': None,\n",
       "    'cmd': None,\n",
       "    'envVars': None,\n",
       "    'resourceMap': {'memory': '1024M', 'cpu': '1'}}}}}"
      ]
     },
     "execution_count": 4,
     "metadata": {},
     "output_type": "execute_result"
    }
   ],
   "source": [
    "experiment = submarine_client.create_experiment(experiment_spec=experiment_spec)\n",
    "experiment"
   ]
  },
  {
   "cell_type": "markdown",
   "metadata": {},
   "source": [
    "### Get the created experiment"
   ]
  },
  {
   "cell_type": "code",
   "execution_count": 5,
   "metadata": {
    "pycharm": {
     "is_executing": false,
     "name": "#%%\n"
    }
   },
   "outputs": [
    {
     "data": {
      "text/plain": [
       "{'experimentId': 'experiment_1592566290966_0001',\n",
       " 'name': 'mnist',\n",
       " 'uid': 'dcfe6a50-b220-11ea-b5f2-025000000001',\n",
       " 'status': 'Running',\n",
       " 'acceptedTime': '2020-06-19T19:34:40.000+08:00',\n",
       " 'createdTime': '2020-06-19T19:34:40.000+08:00',\n",
       " 'runningTime': '2020-06-19T19:34:42.000+08:00',\n",
       " 'finishedTime': None,\n",
       " 'spec': {'meta': {'name': 'mnist',\n",
       "   'namespace': 'submarine',\n",
       "   'framework': 'Tensorflow',\n",
       "   'cmd': 'python /var/tf_mnist/mnist_with_summaries.py --log_dir=/train/log --learning_rate=0.01 --batch_size=150',\n",
       "   'envVars': {'ENV1': 'ENV1'}},\n",
       "  'environment': {'image': 'gcr.io/kubeflow-ci/tf-mnist-with-summaries:1.0'},\n",
       "  'spec': {'Ps': {'replicas': 1,\n",
       "    'resources': 'cpu=1,memory=1024M',\n",
       "    'name': None,\n",
       "    'image': None,\n",
       "    'cmd': None,\n",
       "    'envVars': None,\n",
       "    'resourceMap': {'memory': '1024M', 'cpu': '1'}},\n",
       "   'Worker': {'replicas': 1,\n",
       "    'resources': 'cpu=1,memory=1024M',\n",
       "    'name': None,\n",
       "    'image': None,\n",
       "    'cmd': None,\n",
       "    'envVars': None,\n",
       "    'resourceMap': {'memory': '1024M', 'cpu': '1'}}}}}"
      ]
     },
     "execution_count": 5,
     "metadata": {},
     "output_type": "execute_result"
    }
   ],
   "source": [
    "id = experiment['experimentId']\n",
    "submarine_client.get_experiment(id)"
   ]
  },
  {
   "cell_type": "markdown",
   "metadata": {},
   "source": [
    "### List all running experiments"
   ]
  },
  {
   "cell_type": "code",
   "execution_count": 6,
   "metadata": {
    "pycharm": {
     "is_executing": false,
     "name": "#%%\n"
    },
    "scrolled": true
   },
   "outputs": [
    {
     "data": {
      "text/plain": [
       "[{'experimentId': 'experiment_1592566290966_0001',\n",
       "  'name': 'mnist',\n",
       "  'uid': 'dcfe6a50-b220-11ea-b5f2-025000000001',\n",
       "  'status': 'Running',\n",
       "  'acceptedTime': '2020-06-19T19:34:40.000+08:00',\n",
       "  'createdTime': '2020-06-19T19:34:40.000+08:00',\n",
       "  'runningTime': '2020-06-19T19:34:42.000+08:00',\n",
       "  'finishedTime': None,\n",
       "  'spec': {'meta': {'name': 'mnist',\n",
       "    'namespace': 'submarine',\n",
       "    'framework': 'Tensorflow',\n",
       "    'cmd': 'python /var/tf_mnist/mnist_with_summaries.py --log_dir=/train/log --learning_rate=0.01 --batch_size=150',\n",
       "    'envVars': {'ENV1': 'ENV1'}},\n",
       "   'environment': {'image': 'gcr.io/kubeflow-ci/tf-mnist-with-summaries:1.0'},\n",
       "   'spec': {'Ps': {'replicas': 1,\n",
       "     'resources': 'cpu=1,memory=1024M',\n",
       "     'name': None,\n",
       "     'image': None,\n",
       "     'cmd': None,\n",
       "     'envVars': None,\n",
       "     'resourceMap': {'memory': '1024M', 'cpu': '1'}},\n",
       "    'Worker': {'replicas': 1,\n",
       "     'resources': 'cpu=1,memory=1024M',\n",
       "     'name': None,\n",
       "     'image': None,\n",
       "     'cmd': None,\n",
       "     'envVars': None,\n",
       "     'resourceMap': {'memory': '1024M', 'cpu': '1'}}}}}]"
      ]
     },
     "execution_count": 6,
     "metadata": {},
     "output_type": "execute_result"
    }
   ],
   "source": [
    "status = 'running'\n",
    "submarine_client.list_experiments(status=status)"
   ]
  },
  {
   "cell_type": "markdown",
   "metadata": {},
   "source": [
    "### Wait for the experiment to finish"
   ]
  },
  {
   "cell_type": "code",
   "execution_count": 7,
   "metadata": {},
   "outputs": [
    {
     "name": "stderr",
     "output_type": "stream",
     "text": [
      "WARNING:tensorflow:From /var/tf_mnist/mnist_with_summaries.py:39: read_data_sets (from tensorflow.contrib.learn.python.learn.datasets.mnist) is deprecated and will be removed in a future version.\n",
      "Instructions for updating:\n",
      "Please use alternatives such as official/mnist/dataset.py from tensorflow/models.\n",
      "WARNING:tensorflow:From /usr/local/lib/python2.7/dist-packages/tensorflow/contrib/learn/python/learn/datasets/mnist.py:260: maybe_download (from tensorflow.contrib.learn.python.learn.datasets.base) is deprecated and will be removed in a future version.\n",
      "Instructions for updating:\n",
      "Please write your own downloading logic.\n",
      "WARNING:tensorflow:From /usr/local/lib/python2.7/dist-packages/tensorflow/contrib/learn/python/learn/datasets/base.py:252: wrapped_fn (from tensorflow.contrib.learn.python.learn.datasets.base) is deprecated and will be removed in a future version.\n",
      "Instructions for updating:\n",
      "Please use urllib or similar directly.\n",
      "WARNING:tensorflow:From /usr/local/lib/python2.7/dist-packages/tensorflow/contrib/learn/python/learn/datasets/mnist.py:262: extract_images (from tensorflow.contrib.learn.python.learn.datasets.mnist) is deprecated and will be removed in a future version.\n",
      "Instructions for updating:\n",
      "Please use tf.data to implement this functionality.\n",
      "WARNING:tensorflow:From /usr/local/lib/python2.7/dist-packages/tensorflow/contrib/learn/python/learn/datasets/mnist.py:267: extract_labels (from tensorflow.contrib.learn.python.learn.datasets.mnist) is deprecated and will be removed in a future version.\n",
      "Instructions for updating:\n",
      "Please use tf.data to implement this functionality.\n",
      "WARNING:tensorflow:From /usr/local/lib/python2.7/dist-packages/tensorflow/contrib/learn/python/learn/datasets/mnist.py:290: __init__ (from tensorflow.contrib.learn.python.learn.datasets.mnist) is deprecated and will be removed in a future version.\n",
      "Instructions for updating:\n",
      "Please use alternatives such as official/mnist/dataset.py from tensorflow/models.\n",
      "2020-06-19 11:35:09.025267: I tensorflow/core/platform/cpu_feature_guard.cc:141] Your CPU supports instructions that this TensorFlow binary was not compiled to use: AVX2 FMA\n",
      "Successfully downloaded train-images-idx3-ubyte.gz 9912422 bytes.\n",
      "Extracting /tmp/tensorflow/mnist/input_data/train-images-idx3-ubyte.gz\n",
      "Successfully downloaded train-labels-idx1-ubyte.gz 28881 bytes.\n",
      "Extracting /tmp/tensorflow/mnist/input_data/train-labels-idx1-ubyte.gz\n",
      "Successfully downloaded t10k-images-idx3-ubyte.gz 1648877 bytes.\n",
      "Extracting /tmp/tensorflow/mnist/input_data/t10k-images-idx3-ubyte.gz\n",
      "Successfully downloaded t10k-labels-idx1-ubyte.gz 4542 bytes.\n",
      "Extracting /tmp/tensorflow/mnist/input_data/t10k-labels-idx1-ubyte.gz\n",
      "Accuracy at step 0: 0.0547\n",
      "Accuracy at step 10: 0.7743\n",
      "Accuracy at step 20: 0.882\n",
      "Accuracy at step 30: 0.9127\n",
      "Accuracy at step 40: 0.919\n",
      "Accuracy at step 50: 0.9263\n",
      "Accuracy at step 60: 0.9229\n",
      "Accuracy at step 70: 0.9282\n",
      "Accuracy at step 80: 0.9387\n",
      "Accuracy at step 90: 0.9384\n",
      "Adding run metadata for 99\n",
      "Accuracy at step 100: 0.9425\n",
      "Accuracy at step 110: 0.945\n",
      "Accuracy at step 120: 0.9435\n",
      "Accuracy at step 130: 0.9549\n",
      "Accuracy at step 140: 0.9537\n",
      "Accuracy at step 150: 0.9509\n",
      "Accuracy at step 160: 0.9455\n",
      "Accuracy at step 170: 0.9556\n",
      "Accuracy at step 180: 0.9473\n",
      "Accuracy at step 190: 0.9528\n",
      "Adding run metadata for 199\n",
      "Accuracy at step 200: 0.9462\n",
      "Accuracy at step 210: 0.9574\n",
      "Accuracy at step 220: 0.9507\n",
      "Accuracy at step 230: 0.956\n",
      "Accuracy at step 240: 0.9578\n",
      "Accuracy at step 250: 0.9579\n",
      "Accuracy at step 260: 0.9581\n",
      "Accuracy at step 270: 0.959\n",
      "Accuracy at step 280: 0.9626\n",
      "Accuracy at step 290: 0.9632\n",
      "Adding run metadata for 299\n",
      "Accuracy at step 300: 0.9589\n",
      "Accuracy at step 310: 0.9564\n",
      "Accuracy at step 320: 0.9556\n",
      "Accuracy at step 330: 0.9559\n",
      "Accuracy at step 340: 0.9585\n",
      "Accuracy at step 350: 0.9643\n",
      "Accuracy at step 360: 0.9598\n",
      "Accuracy at step 370: 0.958\n",
      "Accuracy at step 380: 0.9613\n",
      "Accuracy at step 390: 0.9653\n",
      "Adding run metadata for 399\n",
      "Accuracy at step 400: 0.9627\n",
      "Accuracy at step 410: 0.9626\n",
      "Accuracy at step 420: 0.9606\n",
      "Accuracy at step 430: 0.9553\n",
      "Accuracy at step 440: 0.9599\n",
      "Accuracy at step 450: 0.96\n",
      "Accuracy at step 460: 0.9631\n",
      "Accuracy at step 470: 0.9659\n",
      "Accuracy at step 480: 0.9657\n",
      "Accuracy at step 490: 0.9668\n",
      "Adding run metadata for 499\n",
      "Accuracy at step 500: 0.9702\n",
      "Accuracy at step 510: 0.9628\n",
      "Accuracy at step 520: 0.9623\n",
      "Accuracy at step 530: 0.9653\n",
      "Accuracy at step 540: 0.9665\n",
      "Accuracy at step 550: 0.9692\n",
      "Accuracy at step 560: 0.9675\n",
      "Accuracy at step 570: 0.9692\n",
      "Accuracy at step 580: 0.9641\n",
      "Accuracy at step 590: 0.968\n",
      "Adding run metadata for 599\n",
      "Accuracy at step 600: 0.966\n",
      "Accuracy at step 610: 0.9636\n",
      "Accuracy at step 620: 0.9609\n",
      "Accuracy at step 630: 0.9681\n",
      "Accuracy at step 640: 0.9686\n",
      "Accuracy at step 650: 0.9665\n",
      "Accuracy at step 660: 0.9659\n",
      "Accuracy at step 670: 0.9663\n",
      "Accuracy at step 680: 0.9611\n",
      "Accuracy at step 690: 0.9628\n",
      "Adding run metadata for 699\n",
      "Accuracy at step 700: 0.9615\n",
      "Accuracy at step 710: 0.9657\n",
      "Accuracy at step 720: 0.9681\n",
      "Accuracy at step 730: 0.9665\n",
      "Accuracy at step 740: 0.9691\n",
      "Accuracy at step 750: 0.9633\n",
      "Accuracy at step 760: 0.9658\n",
      "Accuracy at step 770: 0.9683\n",
      "Accuracy at step 780: 0.9694\n",
      "Accuracy at step 790: 0.9664\n",
      "Adding run metadata for 799\n",
      "Accuracy at step 800: 0.9684\n",
      "Accuracy at step 810: 0.9669\n",
      "Accuracy at step 820: 0.9667\n",
      "Accuracy at step 830: 0.964\n",
      "Accuracy at step 840: 0.9637\n",
      "Accuracy at step 850: 0.9618\n",
      "Accuracy at step 860: 0.9663\n",
      "Accuracy at step 870: 0.9694\n",
      "Accuracy at step 880: 0.9739\n",
      "Accuracy at step 890: 0.9703\n",
      "Adding run metadata for 899\n",
      "Accuracy at step 900: 0.9619\n",
      "Accuracy at step 910: 0.9694\n",
      "Accuracy at step 920: 0.9679\n",
      "Accuracy at step 930: 0.9699\n",
      "Accuracy at step 940: 0.9701\n",
      "Accuracy at step 950: 0.9716\n",
      "Accuracy at step 960: 0.969\n",
      "Accuracy at step 970: 0.9661\n",
      "Accuracy at step 980: 0.9703\n",
      "Accuracy at step 990: 0.9716\n",
      "Adding run metadata for 999\n"
     ]
    }
   ],
   "source": [
    "submarine_client.wait_for_finish(id)"
   ]
  },
  {
   "cell_type": "markdown",
   "metadata": {},
   "source": [
    "### Get specific experiment training log "
   ]
  },
  {
   "cell_type": "code",
   "execution_count": 8,
   "metadata": {
    "pycharm": {
     "is_executing": false,
     "name": "#%%\n"
    }
   },
   "outputs": [],
   "source": [
    "#submarine_client.get_log(id)"
   ]
  },
  {
   "cell_type": "markdown",
   "metadata": {},
   "source": [
    "### Delete the experiment"
   ]
  },
  {
   "cell_type": "code",
   "execution_count": 9,
   "metadata": {
    "pycharm": {
     "is_executing": false,
     "name": "#%%\n"
    }
   },
   "outputs": [
    {
     "data": {
      "text/plain": [
       "{'experimentId': 'experiment_1592566290966_0001',\n",
       " 'name': 'mnist',\n",
       " 'uid': 'dcfe6a50-b220-11ea-b5f2-025000000001',\n",
       " 'status': 'Deleted',\n",
       " 'acceptedTime': '2020-06-19T19:34:40.000+08:00',\n",
       " 'createdTime': '2020-06-19T19:34:40.000+08:00',\n",
       " 'runningTime': '2020-06-19T19:34:42.000+08:00',\n",
       " 'finishedTime': '2020-06-19T19:37:01.000+08:00',\n",
       " 'spec': {'meta': {'name': 'mnist',\n",
       "   'namespace': 'submarine',\n",
       "   'framework': 'Tensorflow',\n",
       "   'cmd': 'python /var/tf_mnist/mnist_with_summaries.py --log_dir=/train/log --learning_rate=0.01 --batch_size=150',\n",
       "   'envVars': {'ENV1': 'ENV1'}},\n",
       "  'environment': {'image': 'gcr.io/kubeflow-ci/tf-mnist-with-summaries:1.0'},\n",
       "  'spec': {'Ps': {'replicas': 1,\n",
       "    'resources': 'cpu=1,memory=1024M',\n",
       "    'name': None,\n",
       "    'image': None,\n",
       "    'cmd': None,\n",
       "    'envVars': None,\n",
       "    'resourceMap': {'memory': '1024M', 'cpu': '1'}},\n",
       "   'Worker': {'replicas': 1,\n",
       "    'resources': 'cpu=1,memory=1024M',\n",
       "    'name': None,\n",
       "    'image': None,\n",
       "    'cmd': None,\n",
       "    'envVars': None,\n",
       "    'resourceMap': {'memory': '1024M', 'cpu': '1'}}}}}"
      ]
     },
     "execution_count": 9,
     "metadata": {},
     "output_type": "execute_result"
    }
   ],
   "source": [
    "submarine_client.delete_experiment(id)"
   ]
  },
  {
   "cell_type": "code",
   "execution_count": null,
   "metadata": {},
   "outputs": [],
   "source": []
  }
 ],
 "metadata": {
  "kernelspec": {
   "display_name": "Python 3",
   "language": "python",
   "name": "python3"
  },
  "language_info": {
   "codemirror_mode": {
    "name": "ipython",
    "version": 3
   },
   "file_extension": ".py",
   "mimetype": "text/x-python",
   "name": "python",
   "nbconvert_exporter": "python",
   "pygments_lexer": "ipython3",
   "version": "3.7.7"
  },
  "pycharm": {
   "stem_cell": {
    "cell_type": "raw",
    "metadata": {
     "collapsed": false
    },
    "source": []
   }
  }
 },
 "nbformat": 4,
 "nbformat_minor": 1
}
