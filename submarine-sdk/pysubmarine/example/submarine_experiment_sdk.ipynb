{
 "cells": [
  {
   "cell_type": "markdown",
   "metadata": {},
   "source": [
    "## Sample for Submarine Experiment SDK\n",
    "\n",
    "The notebook shows how to use Submarine Experiment SDK to create, get, list, log, delete Submarine Experiment."
   ]
  },
  {
   "cell_type": "code",
   "execution_count": 21,
   "metadata": {
    "pycharm": {
     "is_executing": false
    }
   },
   "outputs": [],
   "source": [
    "from __future__ import print_function\n",
    "from submarine.experiment.configuration import Configuration\n",
    "from submarine.experiment.api_client import ApiClient\n",
    "from submarine.experiment.api.experiment_api import ExperimentApi\n",
    "from submarine.experiment.models.environment import Environment\n",
    "from submarine.experiment.models.experiment_spec import ExperimentSpec\n",
    "from submarine.experiment.models.experiment_task_spec import ExperimentTaskSpec\n",
    "from submarine.experiment.models.experiment_meta import ExperimentMeta"
   ]
  },
  {
   "cell_type": "markdown",
   "metadata": {},
   "source": [
    "### Create Submarine Client"
   ]
  },
  {
   "cell_type": "code",
   "execution_count": 22,
   "metadata": {
    "pycharm": {
     "is_executing": false,
     "name": "#%%\n"
    }
   },
   "outputs": [],
   "source": [
    "configuration = Configuration()\n",
    "configuration.host = 'http://192.168.103.9:8080/api'\n",
    "api_client = ApiClient(configuration=configuration)\n",
    "submarine_client = ExperimentApi(api_client=api_client)"
   ]
  },
  {
   "cell_type": "markdown",
   "metadata": {
    "pycharm": {
     "name": "#%% md\n"
    }
   },
   "source": [
    "### Define TensorFlow experiment spec¶\n",
    "Define Submarine spec¶\n",
    "The demo only creates a worker of TF experiment to run mnist sample."
   ]
  },
  {
   "cell_type": "code",
   "execution_count": 23,
   "metadata": {
    "pycharm": {
     "is_executing": false,
     "name": "#%%\n"
    }
   },
   "outputs": [],
   "source": [
    "experiment_meta = ExperimentMeta(name='mnist',\n",
    "                                 namespace='submarine',\n",
    "                                 framework='Tensorflow',\n",
    "                                 cmd='python /var/tf_mnist/mnist_with_summaries.py'\n",
    "                                    ' --log_dir=/train/log --learning_rate=0.01'\n",
    "                                    ' --batch_size=150',\n",
    "                                 env_vars={'ENV1': 'ENV1'})\n",
    "\n",
    "worker_spec = ExperimentTaskSpec(resources='cpu=4,memory=2048M',\n",
    "                                 replicas=1)\n",
    "\n",
    "environment = Environment(image='gcr.io/kubeflow-ci/tf-mnist-with-summaries:1.0')\n",
    "\n",
    "experiment_spec = ExperimentSpec(meta=experiment_meta,\n",
    "                                 environment=environment,\n",
    "                                 spec={'Worker': worker_spec}) \n"
   ]
  },
  {
   "cell_type": "markdown",
   "metadata": {},
   "source": [
    "### Create experiment"
   ]
  },
  {
   "cell_type": "code",
   "execution_count": 24,
   "metadata": {
    "pycharm": {
     "name": "#%%\n",
     "is_executing": false
    },
    "scrolled": true
   },
   "outputs": [
    {
     "data": {
      "text/plain": "{'attributes': {},\n 'code': 200,\n 'result': {'acceptedTime': '2020-06-18T08:25:14.000+08:00',\n            'createdTime': None,\n            'experimentId': 'experiment_1592409071112_0002',\n            'finishedTime': None,\n            'name': 'mnist',\n            'runningTime': None,\n            'spec': {'environment': {'image': 'gcr.io/kubeflow-ci/tf-mnist-with-summaries:1.0'},\n                     'meta': {'cmd': 'python '\n                                     '/var/tf_mnist/mnist_with_summaries.py '\n                                     '--log_dir=/train/log '\n                                     '--learning_rate=0.01 --batch_size=150',\n                              'envVars': {'ENV1': 'ENV1'},\n                              'framework': 'Tensorflow',\n                              'name': 'mnist',\n                              'namespace': 'submarine'},\n                     'spec': {'Worker': {'cmd': None,\n                                         'envVars': None,\n                                         'image': None,\n                                         'name': None,\n                                         'replicas': 1,\n                                         'resourceMap': {'cpu': '4',\n                                                         'memory': '2048M'},\n                                         'resources': 'cpu=4,memory=2048M'}}},\n            'status': 'Accepted',\n            'uid': '67cb5a4f-78ef-44b1-a76e-81c71f12e14e'},\n 'success': True}"
     },
     "metadata": {},
     "output_type": "execute_result",
     "execution_count": 24
    }
   ],
   "source": [
    "submarine_client.create_experiment(experiment_spec=experiment_spec)"
   ]
  },
  {
   "cell_type": "markdown",
   "metadata": {},
   "source": [
    "### Get the created experiment"
   ]
  },
  {
   "cell_type": "code",
   "execution_count": 26,
   "metadata": {
    "pycharm": {
     "name": "#%%\n",
     "is_executing": false
    }
   },
   "outputs": [
    {
     "data": {
      "text/plain": "{'attributes': {},\n 'code': 200,\n 'result': {'acceptedTime': '2020-06-18T08:25:14.000+08:00',\n            'createdTime': '2020-06-18T08:25:14.000+08:00',\n            'experimentId': 'experiment_1592409071112_0002',\n            'finishedTime': None,\n            'name': 'mnist',\n            'runningTime': '2020-06-18T08:25:16.000+08:00',\n            'spec': {'environment': {'image': 'gcr.io/kubeflow-ci/tf-mnist-with-summaries:1.0'},\n                     'meta': {'cmd': 'python '\n                                     '/var/tf_mnist/mnist_with_summaries.py '\n                                     '--log_dir=/train/log '\n                                     '--learning_rate=0.01 --batch_size=150',\n                              'envVars': {'ENV1': 'ENV1'},\n                              'framework': 'Tensorflow',\n                              'name': 'mnist',\n                              'namespace': 'submarine'},\n                     'spec': {'Worker': {'cmd': None,\n                                         'envVars': None,\n                                         'image': None,\n                                         'name': None,\n                                         'replicas': 1,\n                                         'resourceMap': {'cpu': '4',\n                                                         'memory': '2048M'},\n                                         'resources': 'cpu=4,memory=2048M'}}},\n            'status': 'Running',\n            'uid': '67cb5a4f-78ef-44b1-a76e-81c71f12e14e'},\n 'success': True}"
     },
     "metadata": {},
     "output_type": "execute_result",
     "execution_count": 26
    }
   ],
   "source": [
    "id = 'experiment_1592409071112_0002'\n",
    "submarine_client.get_experiment(id)"
   ]
  },
  {
   "cell_type": "markdown",
   "metadata": {},
   "source": [
    "### List all running experiments"
   ]
  },
  {
   "cell_type": "code",
   "execution_count": 27,
   "metadata": {
    "pycharm": {
     "name": "#%%\n",
     "is_executing": false
    }
   },
   "outputs": [
    {
     "data": {
      "text/plain": "{'attributes': {},\n 'code': 200,\n 'result': [{'acceptedTime': '2020-06-18T08:25:14.000+08:00',\n             'createdTime': '2020-06-18T08:25:14.000+08:00',\n             'experimentId': 'experiment_1592409071112_0002',\n             'finishedTime': None,\n             'name': 'mnist',\n             'runningTime': '2020-06-18T08:25:16.000+08:00',\n             'spec': {'environment': {'image': 'gcr.io/kubeflow-ci/tf-mnist-with-summaries:1.0'},\n                      'meta': {'cmd': 'python '\n                                      '/var/tf_mnist/mnist_with_summaries.py '\n                                      '--log_dir=/train/log '\n                                      '--learning_rate=0.01 --batch_size=150',\n                               'envVars': {'ENV1': 'ENV1'},\n                               'framework': 'Tensorflow',\n                               'name': 'mnist',\n                               'namespace': 'submarine'},\n                      'spec': {'Worker': {'cmd': None,\n                                          'envVars': None,\n                                          'image': None,\n                                          'name': None,\n                                          'replicas': 1,\n                                          'resourceMap': {'cpu': '4',\n                                                          'memory': '2048M'},\n                                          'resources': 'cpu=4,memory=2048M'}}},\n             'status': 'Running',\n             'uid': '67cb5a4f-78ef-44b1-a76e-81c71f12e14e'}],\n 'success': True}"
     },
     "metadata": {},
     "output_type": "execute_result",
     "execution_count": 27
    }
   ],
   "source": [
    "status = 'running'\n",
    "submarine_client.list_experiments(status=status)"
   ]
  },
  {
   "cell_type": "markdown",
   "metadata": {},
   "source": [
    "### Get specific experiment training log "
   ]
  },
  {
   "cell_type": "code",
   "execution_count": 32,
   "metadata": {
    "pycharm": {
     "name": "#%%\n",
     "is_executing": false
    }
   },
   "outputs": [
    {
     "data": {
      "text/plain": "{'attributes': {},\n 'code': 200,\n 'result': {'experimentId': 'experiment_1592409071112_0002',\n            'logContent': [{'podLog': ['WARNING:tensorflow:From '\n                                       '/var/tf_mnist/mnist_with_summaries.py:39: '\n                                       'read_data_sets (from '\n                                       'tensorflow.contrib.learn.python.learn.datasets.mnist) '\n                                       'is deprecated and will be removed in a '\n                                       'future version.',\n                                       'Instructions for updating:',\n                                       'Please use alternatives such as '\n                                       'official/mnist/dataset.py from '\n                                       'tensorflow/models.',\n                                       'WARNING:tensorflow:From '\n                                       '/usr/local/lib/python2.7/dist-packages/tensorflow/contrib/learn/python/learn/datasets/mnist.py:260: '\n                                       'maybe_download (from '\n                                       'tensorflow.contrib.learn.python.learn.datasets.base) '\n                                       'is deprecated and will be removed in a '\n                                       'future version.',\n                                       'Instructions for updating:',\n                                       'Please write your own downloading '\n                                       'logic.',\n                                       'WARNING:tensorflow:From '\n                                       '/usr/local/lib/python2.7/dist-packages/tensorflow/contrib/learn/python/learn/datasets/base.py:252: '\n                                       'wrapped_fn (from '\n                                       'tensorflow.contrib.learn.python.learn.datasets.base) '\n                                       'is deprecated and will be removed in a '\n                                       'future version.',\n                                       'Instructions for updating:',\n                                       'Please use urllib or similar directly.',\n                                       'WARNING:tensorflow:From '\n                                       '/usr/local/lib/python2.7/dist-packages/tensorflow/contrib/learn/python/learn/datasets/mnist.py:262: '\n                                       'extract_images (from '\n                                       'tensorflow.contrib.learn.python.learn.datasets.mnist) '\n                                       'is deprecated and will be removed in a '\n                                       'future version.',\n                                       'Instructions for updating:',\n                                       'Please use tf.data to implement this '\n                                       'functionality.',\n                                       'WARNING:tensorflow:From '\n                                       '/usr/local/lib/python2.7/dist-packages/tensorflow/contrib/learn/python/learn/datasets/mnist.py:267: '\n                                       'extract_labels (from '\n                                       'tensorflow.contrib.learn.python.learn.datasets.mnist) '\n                                       'is deprecated and will be removed in a '\n                                       'future version.',\n                                       'Instructions for updating:',\n                                       'Please use tf.data to implement this '\n                                       'functionality.',\n                                       'WARNING:tensorflow:From '\n                                       '/usr/local/lib/python2.7/dist-packages/tensorflow/contrib/learn/python/learn/datasets/mnist.py:290: '\n                                       '__init__ (from '\n                                       'tensorflow.contrib.learn.python.learn.datasets.mnist) '\n                                       'is deprecated and will be removed in a '\n                                       'future version.',\n                                       'Instructions for updating:',\n                                       'Please use alternatives such as '\n                                       'official/mnist/dataset.py from '\n                                       'tensorflow/models.',\n                                       '2020-06-18 00:25:20.199621: I '\n                                       'tensorflow/core/platform/cpu_feature_guard.cc:141] '\n                                       'Your CPU supports instructions that '\n                                       'this TensorFlow binary was not '\n                                       'compiled to use: AVX2 FMA',\n                                       'Successfully downloaded '\n                                       'train-images-idx3-ubyte.gz 9912422 '\n                                       'bytes.',\n                                       'Extracting '\n                                       '/tmp/tensorflow/mnist/input_data/train-images-idx3-ubyte.gz',\n                                       'Successfully downloaded '\n                                       'train-labels-idx1-ubyte.gz 28881 '\n                                       'bytes.',\n                                       'Extracting '\n                                       '/tmp/tensorflow/mnist/input_data/train-labels-idx1-ubyte.gz',\n                                       'Successfully downloaded '\n                                       't10k-images-idx3-ubyte.gz 1648877 '\n                                       'bytes.',\n                                       'Extracting '\n                                       '/tmp/tensorflow/mnist/input_data/t10k-images-idx3-ubyte.gz',\n                                       'Successfully downloaded '\n                                       't10k-labels-idx1-ubyte.gz 4542 bytes.',\n                                       'Extracting '\n                                       '/tmp/tensorflow/mnist/input_data/t10k-labels-idx1-ubyte.gz',\n                                       'Accuracy at step 0: 0.093',\n                                       'Accuracy at step 10: 0.6813',\n                                       'Accuracy at step 20: 0.8413',\n                                       'Accuracy at step 30: 0.8805',\n                                       'Accuracy at step 40: 0.9169',\n                                       'Accuracy at step 50: 0.9122',\n                                       'Accuracy at step 60: 0.9266',\n                                       'Accuracy at step 70: 0.9365',\n                                       'Accuracy at step 80: 0.934',\n                                       'Accuracy at step 90: 0.9402',\n                                       'Adding run metadata for 99',\n                                       'Accuracy at step 100: 0.9408',\n                                       'Accuracy at step 110: 0.94',\n                                       'Accuracy at step 120: 0.9458',\n                                       'Accuracy at step 130: 0.9392',\n                                       'Accuracy at step 140: 0.9439',\n                                       'Accuracy at step 150: 0.946',\n                                       'Accuracy at step 160: 0.948',\n                                       'Accuracy at step 170: 0.948',\n                                       'Accuracy at step 180: 0.9451',\n                                       'Accuracy at step 190: 0.9547',\n                                       'Adding run metadata for 199',\n                                       'Accuracy at step 200: 0.9496',\n                                       'Accuracy at step 210: 0.9518',\n                                       'Accuracy at step 220: 0.9518',\n                                       'Accuracy at step 230: 0.9538',\n                                       'Accuracy at step 240: 0.9543',\n                                       'Accuracy at step 250: 0.9594',\n                                       'Accuracy at step 260: 0.9569',\n                                       'Accuracy at step 270: 0.9553',\n                                       'Accuracy at step 280: 0.9602',\n                                       'Accuracy at step 290: 0.9561',\n                                       'Adding run metadata for 299',\n                                       'Accuracy at step 300: 0.9571',\n                                       'Accuracy at step 310: 0.9542',\n                                       'Accuracy at step 320: 0.9495',\n                                       'Accuracy at step 330: 0.9535',\n                                       'Accuracy at step 340: 0.9546',\n                                       'Accuracy at step 350: 0.9569',\n                                       'Accuracy at step 360: 0.9629',\n                                       'Accuracy at step 370: 0.9575',\n                                       'Accuracy at step 380: 0.9578',\n                                       'Accuracy at step 390: 0.9629',\n                                       'Adding run metadata for 399',\n                                       'Accuracy at step 400: 0.9645',\n                                       'Accuracy at step 410: 0.9588',\n                                       'Accuracy at step 420: 0.9629',\n                                       'Accuracy at step 430: 0.9647',\n                                       'Accuracy at step 440: 0.9665',\n                                       'Accuracy at step 450: 0.9664',\n                                       'Accuracy at step 460: 0.9631',\n                                       'Accuracy at step 470: 0.9635',\n                                       'Accuracy at step 480: 0.9651',\n                                       'Accuracy at step 490: 0.9678',\n                                       'Adding run metadata for 499',\n                                       'Accuracy at step 500: 0.9646',\n                                       'Accuracy at step 510: 0.9643',\n                                       'Accuracy at step 520: 0.9655',\n                                       'Accuracy at step 530: 0.9646',\n                                       'Accuracy at step 540: 0.9688',\n                                       'Accuracy at step 550: 0.9632',\n                                       'Accuracy at step 560: 0.9649',\n                                       'Accuracy at step 570: 0.962',\n                                       'Accuracy at step 580: 0.967',\n                                       'Accuracy at step 590: 0.9646',\n                                       'Adding run metadata for 599',\n                                       'Accuracy at step 600: 0.9693',\n                                       'Accuracy at step 610: 0.9688',\n                                       'Accuracy at step 620: 0.966',\n                                       'Accuracy at step 630: 0.9672',\n                                       'Accuracy at step 640: 0.9684',\n                                       'Accuracy at step 650: 0.969',\n                                       'Accuracy at step 660: 0.9696',\n                                       'Accuracy at step 670: 0.9672',\n                                       'Accuracy at step 680: 0.9638',\n                                       'Accuracy at step 690: 0.9653',\n                                       'Adding run metadata for 699',\n                                       'Accuracy at step 700: 0.9638',\n                                       'Accuracy at step 710: 0.9687',\n                                       'Accuracy at step 720: 0.9647',\n                                       'Accuracy at step 730: 0.9679',\n                                       'Accuracy at step 740: 0.9708',\n                                       'Accuracy at step 750: 0.9698',\n                                       'Accuracy at step 760: 0.9666',\n                                       'Accuracy at step 770: 0.9657',\n                                       'Accuracy at step 780: 0.9678',\n                                       'Accuracy at step 790: 0.9611',\n                                       'Adding run metadata for 799',\n                                       'Accuracy at step 800: 0.9651',\n                                       'Accuracy at step 810: 0.9684',\n                                       'Accuracy at step 820: 0.9641',\n                                       'Accuracy at step 830: 0.9686',\n                                       'Accuracy at step 840: 0.9701',\n                                       'Accuracy at step 850: 0.9718',\n                                       'Accuracy at step 860: 0.9671',\n                                       'Accuracy at step 870: 0.9706',\n                                       'Accuracy at step 880: 0.9709',\n                                       'Accuracy at step 890: 0.9722',\n                                       'Adding run metadata for 899',\n                                       'Accuracy at step 900: 0.971',\n                                       'Accuracy at step 910: 0.9706',\n                                       'Accuracy at step 920: 0.9682',\n                                       'Accuracy at step 930: 0.9699',\n                                       'Accuracy at step 940: 0.9686',\n                                       'Accuracy at step 950: 0.9699',\n                                       'Accuracy at step 960: 0.9691',\n                                       'Accuracy at step 970: 0.9702',\n                                       'Accuracy at step 980: 0.9679',\n                                       'Accuracy at step 990: 0.972',\n                                       'Adding run metadata for 999'],\n                            'podName': 'mnist-worker-0'}]},\n 'success': True}"
     },
     "metadata": {},
     "output_type": "execute_result",
     "execution_count": 32
    }
   ],
   "source": [
    "submarine_client.get_log(id)"
   ]
  },
  {
   "cell_type": "markdown",
   "metadata": {},
   "source": [
    "### Delete the experiment"
   ]
  },
  {
   "cell_type": "code",
   "execution_count": 33,
   "metadata": {
    "pycharm": {
     "name": "#%%\n",
     "is_executing": false
    }
   },
   "outputs": [
    {
     "data": {
      "text/plain": "{'attributes': {},\n 'code': 200,\n 'result': {'acceptedTime': '2020-06-18T08:25:14.000+08:00',\n            'createdTime': '2020-06-18T08:25:14.000+08:00',\n            'experimentId': 'experiment_1592409071112_0002',\n            'finishedTime': '2020-06-18T08:29:02.000+08:00',\n            'name': 'mnist',\n            'runningTime': '2020-06-18T08:25:16.000+08:00',\n            'spec': {'environment': {'image': 'gcr.io/kubeflow-ci/tf-mnist-with-summaries:1.0'},\n                     'meta': {'cmd': 'python '\n                                     '/var/tf_mnist/mnist_with_summaries.py '\n                                     '--log_dir=/train/log '\n                                     '--learning_rate=0.01 --batch_size=150',\n                              'envVars': {'ENV1': 'ENV1'},\n                              'framework': 'Tensorflow',\n                              'name': 'mnist',\n                              'namespace': 'submarine'},\n                     'spec': {'Worker': {'cmd': None,\n                                         'envVars': None,\n                                         'image': None,\n                                         'name': None,\n                                         'replicas': 1,\n                                         'resourceMap': {'cpu': '4',\n                                                         'memory': '2048M'},\n                                         'resources': 'cpu=4,memory=2048M'}}},\n            'status': 'Deleted',\n            'uid': '67cb5a4f-78ef-44b1-a76e-81c71f12e14e'},\n 'success': True}"
     },
     "metadata": {},
     "output_type": "execute_result",
     "execution_count": 33
    }
   ],
   "source": [
    "submarine_client.delete_experiment(id)"
   ]
  },
  {
   "cell_type": "code",
   "execution_count": null,
   "metadata": {},
   "outputs": [],
   "source": []
  }
 ],
 "metadata": {
  "kernelspec": {
   "display_name": "Python 3",
   "language": "python",
   "name": "python3"
  },
  "language_info": {
   "codemirror_mode": {
    "name": "ipython",
    "version": 3
   },
   "file_extension": ".py",
   "mimetype": "text/x-python",
   "name": "python",
   "nbconvert_exporter": "python",
   "pygments_lexer": "ipython3",
   "version": "3.7.6"
  },
  "pycharm": {
   "stem_cell": {
    "cell_type": "raw",
    "source": [],
    "metadata": {
     "collapsed": false
    }
   }
  }
 },
 "nbformat": 4,
 "nbformat_minor": 1
}
