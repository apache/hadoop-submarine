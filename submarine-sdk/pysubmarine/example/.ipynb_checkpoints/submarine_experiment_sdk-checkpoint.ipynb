{
 "cells": [
  {
   "cell_type": "markdown",
   "metadata": {},
   "source": [
    "## Sample for Submarine Experiment SDK\n",
    "\n",
    "The notebook shows how to use Submarine Experiment SDK to create, get, list, log, delete Submarine Experiment."
   ]
  },
  {
   "cell_type": "code",
   "execution_count": 1,
   "metadata": {
    "pycharm": {
     "is_executing": false
    }
   },
   "outputs": [],
   "source": [
    "from __future__ import print_function\n",
    "import submarine\n",
    "from submarine.experiment.models.environment import Environment\n",
    "from submarine.experiment.models.experiment_spec import ExperimentSpec\n",
    "from submarine.experiment.models.experiment_task_spec import ExperimentTaskSpec\n",
    "from submarine.experiment.models.experiment_meta import ExperimentMeta"
   ]
  },
  {
   "cell_type": "markdown",
   "metadata": {},
   "source": [
    "### Create Submarine Client"
   ]
  },
  {
   "cell_type": "code",
   "execution_count": 2,
   "metadata": {
    "pycharm": {
     "is_executing": false,
     "name": "#%%\n"
    }
   },
   "outputs": [],
   "source": [
    "submarine_client = submarine.ExperimentClient(host='http://192.168.103.9:8080')"
   ]
  },
  {
   "cell_type": "markdown",
   "metadata": {
    "pycharm": {
     "name": "#%% md\n"
    }
   },
   "source": [
    "### Define TensorFlow experiment spec¶\n",
    "Define Submarine spec¶\n",
    "The demo only creates a worker of TF experiment to run mnist sample."
   ]
  },
  {
   "cell_type": "code",
   "execution_count": 3,
   "metadata": {
    "pycharm": {
     "is_executing": false,
     "name": "#%%\n"
    }
   },
   "outputs": [],
   "source": [
    "experiment_meta = ExperimentMeta(name='mnist',\n",
    "                                 namespace='submarine',\n",
    "                                 framework='Tensorflow',\n",
    "                                 cmd='python /var/tf_mnist/mnist_with_summaries.py'\n",
    "                                    ' --log_dir=/train/log --learning_rate=0.01'\n",
    "                                    ' --batch_size=150',\n",
    "                                 env_vars={'ENV1': 'ENV1'})\n",
    "\n",
    "worker_spec = ExperimentTaskSpec(resources='cpu=4,memory=2048M',\n",
    "                                 replicas=1)\n",
    "\n",
    "environment = Environment(image='gcr.io/kubeflow-ci/tf-mnist-with-summaries:1.0')\n",
    "\n",
    "experiment_spec = ExperimentSpec(meta=experiment_meta,\n",
    "                                 environment=environment,\n",
    "                                 spec={'Worker': worker_spec}) \n"
   ]
  },
  {
   "cell_type": "markdown",
   "metadata": {},
   "source": [
    "### Create experiment"
   ]
  },
  {
   "cell_type": "code",
   "execution_count": 4,
   "metadata": {
    "pycharm": {
     "is_executing": false,
     "name": "#%%\n"
    },
    "scrolled": true
   },
   "outputs": [
    {
     "data": {
      "text/plain": [
       "{'experimentId': 'experiment_1592476725472_0002',\n",
       " 'name': 'mnist',\n",
       " 'uid': 'cb90ef9c-2320-4717-9748-07d1f4b429c0',\n",
       " 'status': 'Accepted',\n",
       " 'acceptedTime': '2020-06-18T18:49:07.000+08:00',\n",
       " 'createdTime': None,\n",
       " 'runningTime': None,\n",
       " 'finishedTime': None,\n",
       " 'spec': {'meta': {'name': 'mnist',\n",
       "   'namespace': 'submarine',\n",
       "   'framework': 'Tensorflow',\n",
       "   'cmd': 'python /var/tf_mnist/mnist_with_summaries.py --log_dir=/train/log --learning_rate=0.01 --batch_size=150',\n",
       "   'envVars': {'ENV1': 'ENV1'}},\n",
       "  'environment': {'image': 'gcr.io/kubeflow-ci/tf-mnist-with-summaries:1.0'},\n",
       "  'spec': {'Worker': {'replicas': 1,\n",
       "    'resources': 'cpu=4,memory=2048M',\n",
       "    'name': None,\n",
       "    'image': None,\n",
       "    'cmd': None,\n",
       "    'envVars': None,\n",
       "    'resourceMap': {'memory': '2048M', 'cpu': '4'}}}}}"
      ]
     },
     "execution_count": 4,
     "metadata": {},
     "output_type": "execute_result"
    }
   ],
   "source": [
    "submarine_client.create_experiment(experiment_spec=experiment_spec)"
   ]
  },
  {
   "cell_type": "markdown",
   "metadata": {},
   "source": [
    "### Get the created experiment"
   ]
  },
  {
   "cell_type": "code",
   "execution_count": 5,
   "metadata": {
    "pycharm": {
     "is_executing": false,
     "name": "#%%\n"
    }
   },
   "outputs": [
    {
     "data": {
      "text/plain": [
       "{'experimentId': 'experiment_1592476725472_0002',\n",
       " 'name': 'mnist',\n",
       " 'uid': 'cb90ef9c-2320-4717-9748-07d1f4b429c0',\n",
       " 'status': 'Running',\n",
       " 'acceptedTime': '2020-06-18T18:49:07.000+08:00',\n",
       " 'createdTime': '2020-06-18T18:49:07.000+08:00',\n",
       " 'runningTime': '2020-06-18T18:49:08.000+08:00',\n",
       " 'finishedTime': None,\n",
       " 'spec': {'meta': {'name': 'mnist',\n",
       "   'namespace': 'submarine',\n",
       "   'framework': 'Tensorflow',\n",
       "   'cmd': 'python /var/tf_mnist/mnist_with_summaries.py --log_dir=/train/log --learning_rate=0.01 --batch_size=150',\n",
       "   'envVars': {'ENV1': 'ENV1'}},\n",
       "  'environment': {'image': 'gcr.io/kubeflow-ci/tf-mnist-with-summaries:1.0'},\n",
       "  'spec': {'Worker': {'replicas': 1,\n",
       "    'resources': 'cpu=4,memory=2048M',\n",
       "    'name': None,\n",
       "    'image': None,\n",
       "    'cmd': None,\n",
       "    'envVars': None,\n",
       "    'resourceMap': {'memory': '2048M', 'cpu': '4'}}}}}"
      ]
     },
     "execution_count": 5,
     "metadata": {},
     "output_type": "execute_result"
    }
   ],
   "source": [
    "id = 'experiment_1592476725472_0002'\n",
    "submarine_client.get_experiment(id)"
   ]
  },
  {
   "cell_type": "markdown",
   "metadata": {},
   "source": [
    "### List all running experiments"
   ]
  },
  {
   "cell_type": "code",
   "execution_count": 6,
   "metadata": {
    "pycharm": {
     "is_executing": false,
     "name": "#%%\n"
    }
   },
   "outputs": [
    {
     "data": {
      "text/plain": [
       "[{'experimentId': 'experiment_1592476725472_0002',\n",
       "  'name': 'mnist',\n",
       "  'uid': 'cb90ef9c-2320-4717-9748-07d1f4b429c0',\n",
       "  'status': 'Running',\n",
       "  'acceptedTime': '2020-06-18T18:49:07.000+08:00',\n",
       "  'createdTime': '2020-06-18T18:49:07.000+08:00',\n",
       "  'runningTime': '2020-06-18T18:49:08.000+08:00',\n",
       "  'finishedTime': None,\n",
       "  'spec': {'meta': {'name': 'mnist',\n",
       "    'namespace': 'submarine',\n",
       "    'framework': 'Tensorflow',\n",
       "    'cmd': 'python /var/tf_mnist/mnist_with_summaries.py --log_dir=/train/log --learning_rate=0.01 --batch_size=150',\n",
       "    'envVars': {'ENV1': 'ENV1'}},\n",
       "   'environment': {'image': 'gcr.io/kubeflow-ci/tf-mnist-with-summaries:1.0'},\n",
       "   'spec': {'Worker': {'replicas': 1,\n",
       "     'resources': 'cpu=4,memory=2048M',\n",
       "     'name': None,\n",
       "     'image': None,\n",
       "     'cmd': None,\n",
       "     'envVars': None,\n",
       "     'resourceMap': {'memory': '2048M', 'cpu': '4'}}}}}]"
      ]
     },
     "execution_count": 6,
     "metadata": {},
     "output_type": "execute_result"
    }
   ],
   "source": [
    "status = 'running'\n",
    "submarine_client.list_experiments(status=status)"
   ]
  },
  {
   "cell_type": "markdown",
   "metadata": {},
   "source": [
    "### Get specific experiment training log "
   ]
  },
  {
   "cell_type": "code",
   "execution_count": 7,
   "metadata": {
    "pycharm": {
     "is_executing": false,
     "name": "#%%\n"
    }
   },
   "outputs": [
    {
     "name": "stderr",
     "output_type": "stream",
     "text": [
      "The logs of Pod mnist-worker-0:\n",
      "\n",
      "WARNING:tensorflow:From /var/tf_mnist/mnist_with_summaries.py:39: read_data_sets (from tensorflow.contrib.learn.python.learn.datasets.mnist) is deprecated and will be removed in a future version.:\n",
      "\n",
      "Instructions for updating::\n",
      "\n",
      "Please use alternatives such as official/mnist/dataset.py from tensorflow/models.:\n",
      "\n",
      "WARNING:tensorflow:From /usr/local/lib/python2.7/dist-packages/tensorflow/contrib/learn/python/learn/datasets/mnist.py:260: maybe_download (from tensorflow.contrib.learn.python.learn.datasets.base) is deprecated and will be removed in a future version.:\n",
      "\n",
      "Instructions for updating::\n",
      "\n",
      "Please write your own downloading logic.:\n",
      "\n",
      "WARNING:tensorflow:From /usr/local/lib/python2.7/dist-packages/tensorflow/contrib/learn/python/learn/datasets/base.py:252: wrapped_fn (from tensorflow.contrib.learn.python.learn.datasets.base) is deprecated and will be removed in a future version.:\n",
      "\n",
      "Instructions for updating::\n",
      "\n",
      "Please use urllib or similar directly.:\n",
      "\n",
      "WARNING:tensorflow:From /usr/local/lib/python2.7/dist-packages/tensorflow/contrib/learn/python/learn/datasets/mnist.py:262: extract_images (from tensorflow.contrib.learn.python.learn.datasets.mnist) is deprecated and will be removed in a future version.:\n",
      "\n",
      "Instructions for updating::\n",
      "\n",
      "Please use tf.data to implement this functionality.:\n",
      "\n",
      "WARNING:tensorflow:From /usr/local/lib/python2.7/dist-packages/tensorflow/contrib/learn/python/learn/datasets/mnist.py:267: extract_labels (from tensorflow.contrib.learn.python.learn.datasets.mnist) is deprecated and will be removed in a future version.:\n",
      "\n",
      "Instructions for updating::\n",
      "\n",
      "Please use tf.data to implement this functionality.:\n",
      "\n",
      "WARNING:tensorflow:From /usr/local/lib/python2.7/dist-packages/tensorflow/contrib/learn/python/learn/datasets/mnist.py:290: __init__ (from tensorflow.contrib.learn.python.learn.datasets.mnist) is deprecated and will be removed in a future version.:\n",
      "\n",
      "Instructions for updating::\n",
      "\n",
      "Please use alternatives such as official/mnist/dataset.py from tensorflow/models.:\n",
      "\n",
      "2020-06-18 10:49:13.492455: I tensorflow/core/platform/cpu_feature_guard.cc:141] Your CPU supports instructions that this TensorFlow binary was not compiled to use: AVX2 FMA:\n",
      "\n"
     ]
    }
   ],
   "source": [
    "submarine_client.get_log(id)"
   ]
  },
  {
   "cell_type": "markdown",
   "metadata": {},
   "source": [
    "### Delete the experiment"
   ]
  },
  {
   "cell_type": "code",
   "execution_count": 33,
   "metadata": {
    "pycharm": {
     "is_executing": false,
     "name": "#%%\n"
    }
   },
   "outputs": [
    {
     "data": {
      "text/plain": [
       "{'attributes': {},\n",
       " 'code': 200,\n",
       " 'result': {'acceptedTime': '2020-06-18T08:25:14.000+08:00',\n",
       "            'createdTime': '2020-06-18T08:25:14.000+08:00',\n",
       "            'experimentId': 'experiment_1592409071112_0002',\n",
       "            'finishedTime': '2020-06-18T08:29:02.000+08:00',\n",
       "            'name': 'mnist',\n",
       "            'runningTime': '2020-06-18T08:25:16.000+08:00',\n",
       "            'spec': {'environment': {'image': 'gcr.io/kubeflow-ci/tf-mnist-with-summaries:1.0'},\n",
       "                     'meta': {'cmd': 'python '\n",
       "                                     '/var/tf_mnist/mnist_with_summaries.py '\n",
       "                                     '--log_dir=/train/log '\n",
       "                                     '--learning_rate=0.01 --batch_size=150',\n",
       "                              'envVars': {'ENV1': 'ENV1'},\n",
       "                              'framework': 'Tensorflow',\n",
       "                              'name': 'mnist',\n",
       "                              'namespace': 'submarine'},\n",
       "                     'spec': {'Worker': {'cmd': None,\n",
       "                                         'envVars': None,\n",
       "                                         'image': None,\n",
       "                                         'name': None,\n",
       "                                         'replicas': 1,\n",
       "                                         'resourceMap': {'cpu': '4',\n",
       "                                                         'memory': '2048M'},\n",
       "                                         'resources': 'cpu=4,memory=2048M'}}},\n",
       "            'status': 'Deleted',\n",
       "            'uid': '67cb5a4f-78ef-44b1-a76e-81c71f12e14e'},\n",
       " 'success': True}"
      ]
     },
     "execution_count": 33,
     "metadata": {},
     "output_type": "execute_result"
    }
   ],
   "source": [
    "submarine_client.delete_experiment(id)"
   ]
  },
  {
   "cell_type": "code",
   "execution_count": null,
   "metadata": {},
   "outputs": [],
   "source": []
  }
 ],
 "metadata": {
  "kernelspec": {
   "display_name": "Python 3",
   "language": "python",
   "name": "python3"
  },
  "language_info": {
   "codemirror_mode": {
    "name": "ipython",
    "version": 3
   },
   "file_extension": ".py",
   "mimetype": "text/x-python",
   "name": "python",
   "nbconvert_exporter": "python",
   "pygments_lexer": "ipython3",
   "version": "3.7.6"
  },
  "pycharm": {
   "stem_cell": {
    "cell_type": "raw",
    "metadata": {
     "collapsed": false
    },
    "source": []
   }
  }
 },
 "nbformat": 4,
 "nbformat_minor": 1
}
