{
 "cells": [
  {
   "cell_type": "markdown",
   "metadata": {},
   "source": [
    "## Sample for Submarine Experiment SDK\n",
    "\n",
    "The notebook shows how to use Submarine Experiment SDK to create, get, list, log, delete Submarine Experiment."
   ]
  },
  {
   "cell_type": "code",
   "execution_count": 1,
   "metadata": {
    "pycharm": {
     "is_executing": false
    }
   },
   "outputs": [],
   "source": [
    "from __future__ import print_function\n",
    "from submarine.experiment.configuration import Configuration\n",
    "from submarine.experiment.api_client import ApiClient\n",
    "from submarine.experiment.api.experiment_api import ExperimentApi\n",
    "from submarine.experiment.models.environment import Environment\n",
    "from submarine.experiment.models.experiment_spec import ExperimentSpec\n",
    "from submarine.experiment.models.experiment_task_spec import ExperimentTaskSpec\n",
    "from submarine.experiment.models.experiment_meta import ExperimentMeta"
   ]
  },
  {
   "cell_type": "markdown",
   "metadata": {},
   "source": [
    "### Create Submarine Client"
   ]
  },
  {
   "cell_type": "code",
   "execution_count": 12,
   "metadata": {
    "pycharm": {
     "is_executing": false,
     "name": "#%%\n"
    }
   },
   "outputs": [],
   "source": [
    "configuration = Configuration()\n",
    "configuration.host = 'http://192.168.103.9:8080/api'\n",
    "api_client = ApiClient(configuration=configuration)\n",
    "submarine_client = ExperimentApi(api_client=api_client)"
   ]
  },
  {
   "cell_type": "markdown",
   "metadata": {
    "pycharm": {
     "name": "#%% md\n"
    }
   },
   "source": [
    "### Define TensorFlow experiment spec¶\n",
    "Define Submarine spec¶\n",
    "The demo only creates a worker of TF experiment to run mnist sample."
   ]
  },
  {
   "cell_type": "code",
   "execution_count": 13,
   "metadata": {
    "pycharm": {
     "is_executing": false,
     "name": "#%%\n"
    }
   },
   "outputs": [],
   "source": [
    "experiment_meta = ExperimentMeta(name='mnist',\n",
    "                                 namespace='submarine',\n",
    "                                 framework='Tensorflow',\n",
    "                                 cmd='python /var/tf_mnist/mnist_with_summaries.py'\n",
    "                                    ' --log_dir=/train/log --learning_rate=0.01'\n",
    "                                    ' --batch_size=150',\n",
    "                                 env_vars={'ENV1': 'ENV1'})\n",
    "\n",
    "worker_spec = ExperimentTaskSpec(resources='cpu=4,memory=2048M',\n",
    "                                 replicas=1)\n",
    "\n",
    "environment = Environment(image='gcr.io/kubeflow-ci/tf-mnist-with-summaries:1.0')\n",
    "\n",
    "experiment_spec = ExperimentSpec(meta=experiment_meta,\n",
    "                                 environment=environment,\n",
    "                                 spec={'Worker': worker_spec}) \n"
   ]
  },
  {
   "cell_type": "markdown",
   "metadata": {},
   "source": [
    "### Create experiment"
   ]
  },
  {
   "cell_type": "code",
   "execution_count": 14,
   "metadata": {
    "pycharm": {
     "name": "#%%\n",
     "is_executing": false
    },
    "scrolled": true
   },
   "outputs": [
    {
     "data": {
      "text/plain": "{'attributes': {},\n 'code': 200,\n 'result': {'acceptedTime': '2020-06-17T23:57:42.000+08:00',\n            'createdTime': None,\n            'experimentId': 'experiment_1592409071112_0001',\n            'finishedTime': None,\n            'name': 'mnist',\n            'runningTime': None,\n            'spec': {'environment': {'image': 'gcr.io/kubeflow-ci/tf-mnist-with-summaries:1.0'},\n                     'meta': {'cmd': 'python '\n                                     '/var/tf_mnist/mnist_with_summaries.py '\n                                     '--log_dir=/train/log '\n                                     '--learning_rate=0.01 --batch_size=150',\n                              'envVars': {'ENV1': 'ENV1'},\n                              'framework': 'Tensorflow',\n                              'name': 'mnist',\n                              'namespace': 'submarine'},\n                     'spec': {'Worker': {'cmd': None,\n                                         'envVars': None,\n                                         'image': None,\n                                         'name': None,\n                                         'replicas': 1,\n                                         'resourceMap': {'cpu': '4',\n                                                         'memory': '2048M'},\n                                         'resources': 'cpu=4,memory=2048M'}}},\n            'status': 'Accepted',\n            'uid': '4f5287b5-76d6-476b-801e-becdbed42fb5'},\n 'success': True}"
     },
     "metadata": {},
     "output_type": "execute_result",
     "execution_count": 14
    }
   ],
   "source": [
    "submarine_client.create_experiment(experiment_spec=experiment_spec)"
   ]
  },
  {
   "cell_type": "markdown",
   "metadata": {},
   "source": [
    "### Get the created experiment"
   ]
  },
  {
   "cell_type": "code",
   "execution_count": 16,
   "metadata": {
    "pycharm": {
     "name": "#%%\n",
     "is_executing": false
    }
   },
   "outputs": [
    {
     "data": {
      "text/plain": "{'attributes': {},\n 'code': 200,\n 'result': {'acceptedTime': '2020-06-17T23:57:42.000+08:00',\n            'createdTime': '2020-06-17T23:57:42.000+08:00',\n            'experimentId': 'experiment_1592409071112_0001',\n            'finishedTime': None,\n            'name': 'mnist',\n            'runningTime': '2020-06-17T23:57:44.000+08:00',\n            'spec': {'environment': {'image': 'gcr.io/kubeflow-ci/tf-mnist-with-summaries:1.0'},\n                     'meta': {'cmd': 'python '\n                                     '/var/tf_mnist/mnist_with_summaries.py '\n                                     '--log_dir=/train/log '\n                                     '--learning_rate=0.01 --batch_size=150',\n                              'envVars': {'ENV1': 'ENV1'},\n                              'framework': 'Tensorflow',\n                              'name': 'mnist',\n                              'namespace': 'submarine'},\n                     'spec': {'Worker': {'cmd': None,\n                                         'envVars': None,\n                                         'image': None,\n                                         'name': None,\n                                         'replicas': 1,\n                                         'resourceMap': {'cpu': '4',\n                                                         'memory': '2048M'},\n                                         'resources': 'cpu=4,memory=2048M'}}},\n            'status': 'Running',\n            'uid': '4f5287b5-76d6-476b-801e-becdbed42fb5'},\n 'success': True}"
     },
     "metadata": {},
     "output_type": "execute_result",
     "execution_count": 16
    }
   ],
   "source": [
    "id = 'experiment_1592409071112_0001'\n",
    "submarine_client.get_experiment(id)"
   ]
  },
  {
   "cell_type": "markdown",
   "metadata": {},
   "source": [
    "### List all running experiments"
   ]
  },
  {
   "cell_type": "code",
   "execution_count": 17,
   "metadata": {
    "pycharm": {
     "name": "#%%\n",
     "is_executing": false
    }
   },
   "outputs": [
    {
     "data": {
      "text/plain": "{'attributes': {},\n 'code': 200,\n 'result': [{'acceptedTime': '2020-06-17T23:57:42.000+08:00',\n             'createdTime': '2020-06-17T23:57:42.000+08:00',\n             'experimentId': 'experiment_1592409071112_0001',\n             'finishedTime': None,\n             'name': 'mnist',\n             'runningTime': '2020-06-17T23:57:44.000+08:00',\n             'spec': {'environment': {'image': 'gcr.io/kubeflow-ci/tf-mnist-with-summaries:1.0'},\n                      'meta': {'cmd': 'python '\n                                      '/var/tf_mnist/mnist_with_summaries.py '\n                                      '--log_dir=/train/log '\n                                      '--learning_rate=0.01 --batch_size=150',\n                               'envVars': {'ENV1': 'ENV1'},\n                               'framework': 'Tensorflow',\n                               'name': 'mnist',\n                               'namespace': 'submarine'},\n                      'spec': {'Worker': {'cmd': None,\n                                          'envVars': None,\n                                          'image': None,\n                                          'name': None,\n                                          'replicas': 1,\n                                          'resourceMap': {'cpu': '4',\n                                                          'memory': '2048M'},\n                                          'resources': 'cpu=4,memory=2048M'}}},\n             'status': 'Running',\n             'uid': '4f5287b5-76d6-476b-801e-becdbed42fb5'}],\n 'success': True}"
     },
     "metadata": {},
     "output_type": "execute_result",
     "execution_count": 17
    }
   ],
   "source": [
    "status = 'running'\n",
    "submarine_client.list_experiments(status=status)"
   ]
  },
  {
   "cell_type": "markdown",
   "metadata": {},
   "source": [
    "### Get specific experiment training log "
   ]
  },
  {
   "cell_type": "code",
   "execution_count": 18,
   "metadata": {
    "pycharm": {
     "name": "#%%\n",
     "is_executing": false
    }
   },
   "outputs": [
    {
     "data": {
      "text/plain": "{'attributes': {},\n 'code': 200,\n 'result': {'acceptedTime': '2020-06-17T23:57:42.000+08:00',\n            'createdTime': '2020-06-17T23:57:42.000+08:00',\n            'experimentId': 'experiment_1592409071112_0001',\n            'finishedTime': None,\n            'name': 'mnist',\n            'runningTime': '2020-06-17T23:57:44.000+08:00',\n            'spec': {'environment': {'image': 'gcr.io/kubeflow-ci/tf-mnist-with-summaries:1.0'},\n                     'meta': {'cmd': 'python '\n                                     '/var/tf_mnist/mnist_with_summaries.py '\n                                     '--log_dir=/train/log '\n                                     '--learning_rate=0.01 --batch_size=150',\n                              'envVars': {'ENV1': 'ENV1'},\n                              'framework': 'Tensorflow',\n                              'name': 'mnist',\n                              'namespace': 'submarine'},\n                     'spec': {'Worker': {'cmd': None,\n                                         'envVars': None,\n                                         'image': None,\n                                         'name': None,\n                                         'replicas': 1,\n                                         'resourceMap': {'cpu': '4',\n                                                         'memory': '2048M'},\n                                         'resources': 'cpu=4,memory=2048M'}}},\n            'status': 'Running',\n            'uid': '4f5287b5-76d6-476b-801e-becdbed42fb5'},\n 'success': True}"
     },
     "metadata": {},
     "output_type": "execute_result",
     "execution_count": 18
    }
   ],
   "source": [
    "submarine_client.get_experiment(id)"
   ]
  },
  {
   "cell_type": "markdown",
   "metadata": {},
   "source": [
    "### Delete the experiment"
   ]
  },
  {
   "cell_type": "code",
   "execution_count": 19,
   "metadata": {
    "pycharm": {
     "name": "#%%\n",
     "is_executing": false
    }
   },
   "outputs": [
    {
     "data": {
      "text/plain": "{'attributes': {},\n 'code': 200,\n 'result': {'acceptedTime': '2020-06-17T23:57:42.000+08:00',\n            'createdTime': '2020-06-17T23:57:42.000+08:00',\n            'experimentId': 'experiment_1592409071112_0001',\n            'finishedTime': None,\n            'name': 'mnist',\n            'runningTime': '2020-06-17T23:57:44.000+08:00',\n            'spec': {'environment': {'image': 'gcr.io/kubeflow-ci/tf-mnist-with-summaries:1.0'},\n                     'meta': {'cmd': 'python '\n                                     '/var/tf_mnist/mnist_with_summaries.py '\n                                     '--log_dir=/train/log '\n                                     '--learning_rate=0.01 --batch_size=150',\n                              'envVars': {'ENV1': 'ENV1'},\n                              'framework': 'Tensorflow',\n                              'name': 'mnist',\n                              'namespace': 'submarine'},\n                     'spec': {'Worker': {'cmd': None,\n                                         'envVars': None,\n                                         'image': None,\n                                         'name': None,\n                                         'replicas': 1,\n                                         'resourceMap': {'cpu': '4',\n                                                         'memory': '2048M'},\n                                         'resources': 'cpu=4,memory=2048M'}}},\n            'status': 'Deleted',\n            'uid': '4f5287b5-76d6-476b-801e-becdbed42fb5'},\n 'success': True}"
     },
     "metadata": {},
     "output_type": "execute_result",
     "execution_count": 19
    }
   ],
   "source": [
    "submarine_client.delete_experiment(id)"
   ]
  },
  {
   "cell_type": "code",
   "execution_count": null,
   "metadata": {},
   "outputs": [],
   "source": []
  }
 ],
 "metadata": {
  "kernelspec": {
   "display_name": "Python 3",
   "language": "python",
   "name": "python3"
  },
  "language_info": {
   "codemirror_mode": {
    "name": "ipython",
    "version": 3
   },
   "file_extension": ".py",
   "mimetype": "text/x-python",
   "name": "python",
   "nbconvert_exporter": "python",
   "pygments_lexer": "ipython3",
   "version": "3.7.6"
  },
  "pycharm": {
   "stem_cell": {
    "cell_type": "raw",
    "source": [],
    "metadata": {
     "collapsed": false
    }
   }
  }
 },
 "nbformat": 4,
 "nbformat_minor": 1
}
